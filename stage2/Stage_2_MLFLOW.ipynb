{
  "cells": [
    {
      "attachments": {},
      "cell_type": "markdown",
      "metadata": {
        "id": "inC6a6lIkllb"
      },
      "source": [
        "# **Quora Question Pair Similarity - Part 2**\n",
        "\n",
        "\n",
        "> * **Data Preprocessing**\n",
        "> * **Model Building using Classification algorithms.**\n",
        "> * **MLOps** "
      ]
    },
    {
      "attachments": {},
      "cell_type": "markdown",
      "metadata": {
        "id": "ja35BGIMjVuH"
      },
      "source": [
        "### **Description**\n",
        "\n",
        "**About Quora** :\t\n",
        "* Quora is a social question-and-answer platform to ask questions and connect with people who contribute unique insights and quality answers. Users can collaborate by editing questions and commenting on answers that have been submitted by other users.\n",
        "    \n",
        "* One of the major problems that Quora face is the duplication of questions. Duplication of question ruins the experience for both the questioner and the answerer. Multiple questions with the same intent can cause seekers to spend more time finding the best answer to their question, and make writers feel they need to answer multiple versions of the same question. \n",
        "\n",
        "\n",
        "### **Problem Statement:**\n",
        "* Identify which questions asked on Quora are duplicates of questions that have already been asked.\n",
        "\n",
        "* This can be helpful for providing instant responses to questions that have already been addressed.\n",
        "\n",
        "### **Objective:**\n",
        "* To predict which of the provided pairs of questions contain two questions with the same meaning. \n",
        "\n",
        "\n",
        "\n",
        "\n",
        "\n",
        "\n"
      ]
    },
    {
      "cell_type": "code",
      "execution_count": 1,
      "metadata": {
        "colab": {
          "base_uri": "https://localhost:8080/"
        },
        "id": "GzsIayz7FzRB",
        "outputId": "2658a518-ff50-4ff6-95ee-b6b29f6f9226"
      },
      "outputs": [
        {
          "name": "stderr",
          "output_type": "stream",
          "text": [
            "'gdown' is not recognized as an internal or external command,\n",
            "operable program or batch file.\n"
          ]
        }
      ],
      "source": [
        "!gdown 1Mvz5Jc2y3VPtbwbJ51fAiiMLRD5KZ9pB\n",
        "#https://drive.google.com/file/d/1Mvz5Jc2y3VPtbwbJ51fAiiMLRD5KZ9pB/view?usp=sharing"
      ]
    },
    {
      "cell_type": "code",
      "execution_count": 2,
      "metadata": {
        "colab": {
          "base_uri": "https://localhost:8080/"
        },
        "id": "XspcGux6FSea",
        "outputId": "ee430d9d-0822-4fcd-d448-acde9166f89b"
      },
      "outputs": [
        {
          "name": "stdout",
          "output_type": "stream",
          "text": [
            "Requirement already satisfied: distance in d:\\desktop\\eda\\eda\\envi\\lib\\site-packages (0.1.3)\n",
            "Requirement already satisfied: fuzzywuzzy in d:\\desktop\\eda\\eda\\envi\\lib\\site-packages (0.18.0)\n"
          ]
        },
        {
          "name": "stderr",
          "output_type": "stream",
          "text": [
            "[nltk_data] Downloading package stopwords to\n",
            "[nltk_data]     C:\\Users\\aditi\\AppData\\Roaming\\nltk_data...\n",
            "[nltk_data]   Package stopwords is already up-to-date!\n",
            "[nltk_data] Downloading package wordnet to\n",
            "[nltk_data]     C:\\Users\\aditi\\AppData\\Roaming\\nltk_data...\n",
            "[nltk_data]   Package wordnet is already up-to-date!\n",
            "[nltk_data] Downloading package omw-1.4 to\n",
            "[nltk_data]     C:\\Users\\aditi\\AppData\\Roaming\\nltk_data...\n",
            "[nltk_data]   Package omw-1.4 is already up-to-date!\n"
          ]
        }
      ],
      "source": [
        "import numpy as np\n",
        "import pandas as pd\n",
        "import matplotlib.pyplot as plt\n",
        "import nltk\n",
        "from nltk.tokenize import word_tokenize\n",
        "from nltk.corpus import stopwords\n",
        "from nltk.stem.porter import PorterStemmer\n",
        "from nltk.stem import WordNetLemmatizer\n",
        "nltk.download('stopwords')\n",
        "nltk.download('wordnet')\n",
        "nltk.download('omw-1.4')\n",
        "import re\n",
        "from bs4 import BeautifulSoup\n",
        "import warnings\n",
        "warnings.filterwarnings('ignore')\n",
        "import distance\n",
        "from fuzzywuzzy import fuzz"
      ]
    },
    {
      "cell_type": "code",
      "execution_count": 3,
      "metadata": {
        "id": "D54bHKI-FSer"
      },
      "outputs": [],
      "source": [
        "feature_df = pd.read_csv('data.csv')"
      ]
    },
    {
      "cell_type": "code",
      "execution_count": 4,
      "metadata": {
        "colab": {
          "base_uri": "https://localhost:8080/"
        },
        "id": "iXFPRKtoFSet",
        "outputId": "5991566f-9790-4cba-bcd2-b8bc7a3c265c"
      },
      "outputs": [
        {
          "data": {
            "text/plain": [
              "Unnamed: 0              0\n",
              "id                      0\n",
              "qid1                    0\n",
              "qid2                    0\n",
              "is_duplicate            0\n",
              "q1_lem                  0\n",
              "q1_len                  0\n",
              "q1_num_words            0\n",
              "q2_lem                  0\n",
              "q2_len                  0\n",
              "q2_num_words            0\n",
              "word_common             0\n",
              "word_total              0\n",
              "word_share              0\n",
              "cwc_min                 0\n",
              "cwc_max                 0\n",
              "csc_min                 0\n",
              "csc_max                 0\n",
              "ctc_min                 0\n",
              "ctc_max                 0\n",
              "first_word_eq           0\n",
              "last_word_eq            0\n",
              "abs_len_diff            0\n",
              "mean_len                0\n",
              "longest_substr_ratio    0\n",
              "fuzz_ratio              0\n",
              "fuzz_partial_ratio      0\n",
              "token_sort_ratio        0\n",
              "token_set_ratio         0\n",
              "dtype: int64"
            ]
          },
          "execution_count": 4,
          "metadata": {},
          "output_type": "execute_result"
        }
      ],
      "source": [
        "# Null values check\n",
        "feature_df.isnull().sum()"
      ]
    },
    {
      "cell_type": "code",
      "execution_count": 5,
      "metadata": {
        "colab": {
          "base_uri": "https://localhost:8080/"
        },
        "id": "vRn-Fy0MFSew",
        "outputId": "2dfbf280-8269-4786-a4ff-737c47387b2a"
      },
      "outputs": [
        {
          "data": {
            "text/plain": [
              "Index(['Unnamed: 0', 'id', 'qid1', 'qid2', 'is_duplicate', 'q1_lem', 'q1_len',\n",
              "       'q1_num_words', 'q2_lem', 'q2_len', 'q2_num_words', 'word_common',\n",
              "       'word_total', 'word_share', 'cwc_min', 'cwc_max', 'csc_min', 'csc_max',\n",
              "       'ctc_min', 'ctc_max', 'first_word_eq', 'last_word_eq', 'abs_len_diff',\n",
              "       'mean_len', 'longest_substr_ratio', 'fuzz_ratio', 'fuzz_partial_ratio',\n",
              "       'token_sort_ratio', 'token_set_ratio'],\n",
              "      dtype='object')"
            ]
          },
          "execution_count": 5,
          "metadata": {},
          "output_type": "execute_result"
        }
      ],
      "source": [
        "feature_df.columns"
      ]
    },
    {
      "cell_type": "code",
      "execution_count": 6,
      "metadata": {
        "id": "yjy8uMCvFSey"
      },
      "outputs": [],
      "source": [
        "feature_df.rename(columns={'q1_lem':'Clean_q1_lem','q2_lem':'Clean_q2_lem'},inplace=True)"
      ]
    },
    {
      "cell_type": "code",
      "execution_count": 7,
      "metadata": {
        "colab": {
          "base_uri": "https://localhost:8080/",
          "height": 317
        },
        "id": "qY3c4NNkFSe0",
        "outputId": "cf7c95db-50e4-42a4-a2ec-7743305610a2"
      },
      "outputs": [
        {
          "name": "stdout",
          "output_type": "stream",
          "text": [
            "(4000, 23)\n"
          ]
        },
        {
          "data": {
            "text/html": [
              "<div>\n",
              "<style scoped>\n",
              "    .dataframe tbody tr th:only-of-type {\n",
              "        vertical-align: middle;\n",
              "    }\n",
              "\n",
              "    .dataframe tbody tr th {\n",
              "        vertical-align: top;\n",
              "    }\n",
              "\n",
              "    .dataframe thead th {\n",
              "        text-align: right;\n",
              "    }\n",
              "</style>\n",
              "<table border=\"1\" class=\"dataframe\">\n",
              "  <thead>\n",
              "    <tr style=\"text-align: right;\">\n",
              "      <th></th>\n",
              "      <th>is_duplicate</th>\n",
              "      <th>q1_len</th>\n",
              "      <th>q1_num_words</th>\n",
              "      <th>q2_len</th>\n",
              "      <th>q2_num_words</th>\n",
              "      <th>word_common</th>\n",
              "      <th>word_total</th>\n",
              "      <th>word_share</th>\n",
              "      <th>cwc_min</th>\n",
              "      <th>cwc_max</th>\n",
              "      <th>...</th>\n",
              "      <th>ctc_max</th>\n",
              "      <th>first_word_eq</th>\n",
              "      <th>last_word_eq</th>\n",
              "      <th>abs_len_diff</th>\n",
              "      <th>mean_len</th>\n",
              "      <th>longest_substr_ratio</th>\n",
              "      <th>fuzz_ratio</th>\n",
              "      <th>fuzz_partial_ratio</th>\n",
              "      <th>token_sort_ratio</th>\n",
              "      <th>token_set_ratio</th>\n",
              "    </tr>\n",
              "  </thead>\n",
              "  <tbody>\n",
              "    <tr>\n",
              "      <th>0</th>\n",
              "      <td>0</td>\n",
              "      <td>33</td>\n",
              "      <td>8</td>\n",
              "      <td>33</td>\n",
              "      <td>8</td>\n",
              "      <td>7</td>\n",
              "      <td>16</td>\n",
              "      <td>0.44</td>\n",
              "      <td>0.833319</td>\n",
              "      <td>0.833319</td>\n",
              "      <td>...</td>\n",
              "      <td>0.874989</td>\n",
              "      <td>1</td>\n",
              "      <td>0</td>\n",
              "      <td>0</td>\n",
              "      <td>8.0</td>\n",
              "      <td>0</td>\n",
              "      <td>88</td>\n",
              "      <td>88</td>\n",
              "      <td>81</td>\n",
              "      <td>90</td>\n",
              "    </tr>\n",
              "    <tr>\n",
              "      <th>1</th>\n",
              "      <td>0</td>\n",
              "      <td>52</td>\n",
              "      <td>11</td>\n",
              "      <td>50</td>\n",
              "      <td>9</td>\n",
              "      <td>6</td>\n",
              "      <td>20</td>\n",
              "      <td>0.30</td>\n",
              "      <td>0.499992</td>\n",
              "      <td>0.499992</td>\n",
              "      <td>...</td>\n",
              "      <td>0.545450</td>\n",
              "      <td>1</td>\n",
              "      <td>0</td>\n",
              "      <td>2</td>\n",
              "      <td>10.0</td>\n",
              "      <td>0</td>\n",
              "      <td>73</td>\n",
              "      <td>72</td>\n",
              "      <td>73</td>\n",
              "      <td>73</td>\n",
              "    </tr>\n",
              "    <tr>\n",
              "      <th>2</th>\n",
              "      <td>0</td>\n",
              "      <td>95</td>\n",
              "      <td>17</td>\n",
              "      <td>44</td>\n",
              "      <td>8</td>\n",
              "      <td>2</td>\n",
              "      <td>25</td>\n",
              "      <td>0.08</td>\n",
              "      <td>0.000000</td>\n",
              "      <td>0.000000</td>\n",
              "      <td>...</td>\n",
              "      <td>0.124999</td>\n",
              "      <td>0</td>\n",
              "      <td>0</td>\n",
              "      <td>8</td>\n",
              "      <td>12.0</td>\n",
              "      <td>0</td>\n",
              "      <td>35</td>\n",
              "      <td>43</td>\n",
              "      <td>36</td>\n",
              "      <td>24</td>\n",
              "    </tr>\n",
              "    <tr>\n",
              "      <th>3</th>\n",
              "      <td>1</td>\n",
              "      <td>43</td>\n",
              "      <td>7</td>\n",
              "      <td>51</td>\n",
              "      <td>9</td>\n",
              "      <td>6</td>\n",
              "      <td>16</td>\n",
              "      <td>0.38</td>\n",
              "      <td>0.666656</td>\n",
              "      <td>0.666656</td>\n",
              "      <td>...</td>\n",
              "      <td>0.444440</td>\n",
              "      <td>1</td>\n",
              "      <td>0</td>\n",
              "      <td>2</td>\n",
              "      <td>8.0</td>\n",
              "      <td>0</td>\n",
              "      <td>72</td>\n",
              "      <td>67</td>\n",
              "      <td>89</td>\n",
              "      <td>96</td>\n",
              "    </tr>\n",
              "    <tr>\n",
              "      <th>4</th>\n",
              "      <td>1</td>\n",
              "      <td>37</td>\n",
              "      <td>9</td>\n",
              "      <td>28</td>\n",
              "      <td>7</td>\n",
              "      <td>4</td>\n",
              "      <td>16</td>\n",
              "      <td>0.25</td>\n",
              "      <td>0.399992</td>\n",
              "      <td>0.333328</td>\n",
              "      <td>...</td>\n",
              "      <td>0.222220</td>\n",
              "      <td>1</td>\n",
              "      <td>0</td>\n",
              "      <td>2</td>\n",
              "      <td>8.0</td>\n",
              "      <td>0</td>\n",
              "      <td>68</td>\n",
              "      <td>61</td>\n",
              "      <td>71</td>\n",
              "      <td>81</td>\n",
              "    </tr>\n",
              "  </tbody>\n",
              "</table>\n",
              "<p>5 rows × 23 columns</p>\n",
              "</div>"
            ],
            "text/plain": [
              "   is_duplicate  q1_len  q1_num_words  q2_len  q2_num_words  word_common  \\\n",
              "0             0      33             8      33             8            7   \n",
              "1             0      52            11      50             9            6   \n",
              "2             0      95            17      44             8            2   \n",
              "3             1      43             7      51             9            6   \n",
              "4             1      37             9      28             7            4   \n",
              "\n",
              "   word_total  word_share   cwc_min   cwc_max  ...   ctc_max  first_word_eq  \\\n",
              "0          16        0.44  0.833319  0.833319  ...  0.874989              1   \n",
              "1          20        0.30  0.499992  0.499992  ...  0.545450              1   \n",
              "2          25        0.08  0.000000  0.000000  ...  0.124999              0   \n",
              "3          16        0.38  0.666656  0.666656  ...  0.444440              1   \n",
              "4          16        0.25  0.399992  0.333328  ...  0.222220              1   \n",
              "\n",
              "   last_word_eq  abs_len_diff  mean_len  longest_substr_ratio  fuzz_ratio  \\\n",
              "0             0             0       8.0                     0          88   \n",
              "1             0             2      10.0                     0          73   \n",
              "2             0             8      12.0                     0          35   \n",
              "3             0             2       8.0                     0          72   \n",
              "4             0             2       8.0                     0          68   \n",
              "\n",
              "   fuzz_partial_ratio  token_sort_ratio  token_set_ratio  \n",
              "0                  88                81               90  \n",
              "1                  72                73               73  \n",
              "2                  43                36               24  \n",
              "3                  67                89               96  \n",
              "4                  61                71               81  \n",
              "\n",
              "[5 rows x 23 columns]"
            ]
          },
          "execution_count": 7,
          "metadata": {},
          "output_type": "execute_result"
        }
      ],
      "source": [
        "final_df = feature_df.drop(columns=['Unnamed: 0','id','qid1','qid2','Clean_q1_lem','Clean_q2_lem'])\n",
        "print(final_df.shape)\n",
        "final_df.head()"
      ]
    },
    {
      "cell_type": "code",
      "execution_count": 8,
      "metadata": {
        "colab": {
          "base_uri": "https://localhost:8080/"
        },
        "id": "hjedb9btFSe1",
        "outputId": "70d83dd9-e8cd-4d04-b457-03c67b04c5db"
      },
      "outputs": [
        {
          "data": {
            "text/plain": [
              "is_duplicate            0\n",
              "q1_len                  0\n",
              "q1_num_words            0\n",
              "q2_len                  0\n",
              "q2_num_words            0\n",
              "word_common             0\n",
              "word_total              0\n",
              "word_share              0\n",
              "cwc_min                 0\n",
              "cwc_max                 0\n",
              "csc_min                 0\n",
              "csc_max                 0\n",
              "ctc_min                 0\n",
              "ctc_max                 0\n",
              "first_word_eq           0\n",
              "last_word_eq            0\n",
              "abs_len_diff            0\n",
              "mean_len                0\n",
              "longest_substr_ratio    0\n",
              "fuzz_ratio              0\n",
              "fuzz_partial_ratio      0\n",
              "token_sort_ratio        0\n",
              "token_set_ratio         0\n",
              "dtype: int64"
            ]
          },
          "execution_count": 8,
          "metadata": {},
          "output_type": "execute_result"
        }
      ],
      "source": [
        "final_df.isnull().sum()"
      ]
    },
    {
      "cell_type": "code",
      "execution_count": 9,
      "metadata": {
        "id": "GxWltJelFSe3"
      },
      "outputs": [],
      "source": [
        "ques_df = feature_df[['Clean_q1_lem','Clean_q2_lem']]\n",
        "ques_df.head()\n",
        "# df for BoW\n",
        "ques_df_bow=ques_df\n",
        "# df for TF-IDF\n",
        "ques_df_tfidf=ques_df\n",
        "# df for w2v\n",
        "ques_df_w2v=ques_df\n",
        "# df for Glove\n",
        "ques_df_glove=ques_df\n",
        "# df for Bert\n",
        "ques_df_bert=ques_df\n",
        "\n",
        "questions= ques_df['Clean_q1_lem']+ques_df['Clean_q2_lem']"
      ]
    },
    {
      "attachments": {},
      "cell_type": "markdown",
      "metadata": {
        "id": "mv9WWxcuGnew"
      },
      "source": [
        "# **Bag of Words approach  using Count Vectorizer**"
      ]
    },
    {
      "cell_type": "code",
      "execution_count": 10,
      "metadata": {
        "colab": {
          "base_uri": "https://localhost:8080/"
        },
        "id": "Elh_pEOEFSe4",
        "outputId": "3ff82ec4-9692-4917-d0fb-611665b611df"
      },
      "outputs": [
        {
          "data": {
            "text/plain": [
              "(4000, 6000)"
            ]
          },
          "execution_count": 10,
          "metadata": {},
          "output_type": "execute_result"
        }
      ],
      "source": [
        "from sklearn.feature_extraction.text import CountVectorizer\n",
        "# merge texts\n",
        "questions = list(ques_df['Clean_q1_lem']) + list(ques_df['Clean_q2_lem'])\n",
        "\n",
        "cv = CountVectorizer(max_features=3000)\n",
        "q1_arr, q2_arr = np.vsplit(cv.fit_transform(questions).toarray(),2)\n",
        "\n",
        "temp_df1 = pd.DataFrame(q1_arr, index= ques_df.index)\n",
        "temp_df2 = pd.DataFrame(q2_arr, index= ques_df.index)\n",
        "temp_df = pd.concat([temp_df1, temp_df2], axis=1)\n",
        "temp_df.shape"
      ]
    },
    {
      "cell_type": "code",
      "execution_count": 11,
      "metadata": {
        "colab": {
          "base_uri": "https://localhost:8080/"
        },
        "id": "5cJ0SuOrFSe4",
        "outputId": "30a8407e-caed-445c-ed01-e0fadca86823"
      },
      "outputs": [
        {
          "name": "stdout",
          "output_type": "stream",
          "text": [
            "(4000, 6023)\n"
          ]
        }
      ],
      "source": [
        "final_df = pd.concat([final_df, temp_df], axis=1)\n",
        "print(final_df.shape)\n",
        "final_df.head()\n",
        "\n",
        "final_df_bow=final_df\n",
        "\n",
        "final_df_tfidf=final_df\n",
        "\n",
        "final_df_w2v=final_df\n",
        "\n",
        "final_df_glove=final_df\n",
        "\n",
        "final_df_bert=final_df"
      ]
    },
    {
      "cell_type": "code",
      "execution_count": 12,
      "metadata": {
        "id": "q7fGuO7JFSe5"
      },
      "outputs": [],
      "source": [
        "#Data Preparation - Split the data into train and test set\n",
        "\n",
        "from sklearn.model_selection import train_test_split\n",
        "X_train,X_test,y_train,y_test = train_test_split(final_df.iloc[:,1:].values,final_df.iloc[:,0].values,test_size=0.2,random_state=1)"
      ]
    },
    {
      "cell_type": "code",
      "execution_count": 13,
      "metadata": {
        "colab": {
          "base_uri": "https://localhost:8080/"
        },
        "id": "MDF50tQCGwCo",
        "outputId": "ded7ddfb-958e-4d0e-d93a-fcefb8a05872"
      },
      "outputs": [
        {
          "name": "stdout",
          "output_type": "stream",
          "text": [
            "X_train : (3200, 6022)   y_train : (3200,)\n",
            "X_test : (800, 6022)   y_test : (800,)\n"
          ]
        }
      ],
      "source": [
        "print('X_train :',X_train.shape,'  y_train :',y_train.shape)\n",
        "print('X_test :',X_test.shape,'  y_test :',y_test.shape)"
      ]
    },
    {
      "cell_type": "code",
      "execution_count": 14,
      "metadata": {
        "colab": {
          "base_uri": "https://localhost:8080/"
        },
        "id": "QvD4FqtUFSe5",
        "outputId": "988da840-2f07-4b50-cf9c-75087bc7273e"
      },
      "outputs": [
        {
          "name": "stderr",
          "output_type": "stream",
          "text": [
            "2023/06/09 22:29:00 INFO mlflow.tracking.fluent: Experiment with name 'Quora_Question_Pair_Similarity' does not exist. Creating a new experiment.\n"
          ]
        },
        {
          "data": {
            "text/plain": [
              "<Experiment: artifact_location='file:///d:/Desktop/EDA/EDA/mlruns/2', creation_time=1686329940813, experiment_id='2', last_update_time=1686329940813, lifecycle_stage='active', name='Quora_Question_Pair_Similarity', tags={}>"
            ]
          },
          "execution_count": 14,
          "metadata": {},
          "output_type": "execute_result"
        }
      ],
      "source": [
        "\n",
        "\"\"\"# ML-FLow\"\"\"\n",
        "import mlflow\n",
        "mlflow.set_tracking_uri(\"sqlite:///mlflow.db\")\n",
        "mlflow.set_experiment(\"Quora_Question_Pair_Similarity\")\n"
      ]
    },
    {
      "attachments": {},
      "cell_type": "markdown",
      "metadata": {
        "id": "H2eIZncJ2f12"
      },
      "source": [
        "## **Logistic Regression**"
      ]
    },
    {
      "cell_type": "code",
      "execution_count": 15,
      "metadata": {
        "colab": {
          "base_uri": "https://localhost:8080/"
        },
        "id": "iOyLUaZHHDq-",
        "outputId": "fc9052eb-be61-4207-d44a-3a964ca102d7"
      },
      "outputs": [
        {
          "name": "stdout",
          "output_type": "stream",
          "text": [
            "Accuracy for Log.Regn :  0.72125\n"
          ]
        }
      ],
      "source": [
        "from sklearn.metrics import accuracy_score\n",
        "from sklearn.linear_model import LogisticRegression\n",
        "\n",
        "lr=LogisticRegression()\n",
        "lr.fit(X_train,y_train)\n",
        "y_pred_log=lr.predict(X_test)\n",
        "print('Accuracy for Log.Regn : ',accuracy_score(y_test,y_pred_log))"
      ]
    },
    {
      "attachments": {},
      "cell_type": "markdown",
      "metadata": {
        "id": "igka1xtl2j_m"
      },
      "source": [
        "## **Random Forest**"
      ]
    },
    {
      "cell_type": "code",
      "execution_count": 16,
      "metadata": {
        "colab": {
          "base_uri": "https://localhost:8080/"
        },
        "id": "wXU9S58XFSe6",
        "outputId": "a173da8f-f8a4-428f-92bb-0e8d1e2722fd"
      },
      "outputs": [
        {
          "name": "stdout",
          "output_type": "stream",
          "text": [
            "Accuracy for Random Forest :  0.755\n"
          ]
        }
      ],
      "source": [
        "from sklearn.ensemble import RandomForestClassifier\n",
        "\n",
        "rf = RandomForestClassifier()\n",
        "rf.fit(X_train,y_train)\n",
        "y_pred_rf = rf.predict(X_test)\n",
        "print('Accuracy for Random Forest : ',accuracy_score(y_test,y_pred_rf))"
      ]
    },
    {
      "attachments": {},
      "cell_type": "markdown",
      "metadata": {
        "id": "-41ZTbmC2pL_"
      },
      "source": [
        "## **XGBoost**"
      ]
    },
    {
      "cell_type": "code",
      "execution_count": 17,
      "metadata": {
        "colab": {
          "base_uri": "https://localhost:8080/"
        },
        "id": "KNfAwUv7FSe6",
        "outputId": "6ab8e246-1e09-42bd-e2f0-9165d80b0969"
      },
      "outputs": [
        {
          "name": "stdout",
          "output_type": "stream",
          "text": [
            "Accuracy for XGBoost :  0.73125\n"
          ]
        }
      ],
      "source": [
        "from xgboost import XGBClassifier\n",
        "\n",
        "xgb = XGBClassifier()\n",
        "xgb.fit(X_train,y_train)\n",
        "y_pred_xgb = xgb.predict(X_test)\n",
        "print('Accuracy for XGBoost : ',accuracy_score(y_test,y_pred_xgb))"
      ]
    },
    {
      "attachments": {},
      "cell_type": "markdown",
      "metadata": {
        "id": "nsMLa46W2xNS"
      },
      "source": [
        "## **Support Vector Machine**"
      ]
    },
    {
      "cell_type": "code",
      "execution_count": 18,
      "metadata": {
        "colab": {
          "base_uri": "https://localhost:8080/"
        },
        "id": "G2O04PIZKGv6",
        "outputId": "4d8f0f85-f924-403f-9183-616cae0562df"
      },
      "outputs": [
        {
          "name": "stdout",
          "output_type": "stream",
          "text": [
            "Accuracy for SVM classifier :  0.66625\n"
          ]
        }
      ],
      "source": [
        "from sklearn.svm import SVC\n",
        "\n",
        "svc=SVC()\n",
        "svc.fit(X_train,y_train)\n",
        "y_pred_svc=svc.predict(X_test)\n",
        "print('Accuracy for SVM classifier : ',accuracy_score(y_test,y_pred_svc))"
      ]
    },
    {
      "cell_type": "code",
      "execution_count": 19,
      "metadata": {
        "colab": {
          "base_uri": "https://localhost:8080/",
          "height": 193
        },
        "id": "M9E_zZz_vSoP",
        "outputId": "d7a5b280-45c7-43a5-963c-911b41247225"
      },
      "outputs": [
        {
          "name": "stdout",
          "output_type": "stream",
          "text": [
            "For Bag of Words approach:\n"
          ]
        },
        {
          "data": {
            "text/html": [
              "<div>\n",
              "<style scoped>\n",
              "    .dataframe tbody tr th:only-of-type {\n",
              "        vertical-align: middle;\n",
              "    }\n",
              "\n",
              "    .dataframe tbody tr th {\n",
              "        vertical-align: top;\n",
              "    }\n",
              "\n",
              "    .dataframe thead th {\n",
              "        text-align: right;\n",
              "    }\n",
              "</style>\n",
              "<table border=\"1\" class=\"dataframe\">\n",
              "  <thead>\n",
              "    <tr style=\"text-align: right;\">\n",
              "      <th></th>\n",
              "      <th>Model</th>\n",
              "      <th>Accuracy</th>\n",
              "    </tr>\n",
              "  </thead>\n",
              "  <tbody>\n",
              "    <tr>\n",
              "      <th>0</th>\n",
              "      <td>Logistic Regression</td>\n",
              "      <td>0.72125</td>\n",
              "    </tr>\n",
              "    <tr>\n",
              "      <th>1</th>\n",
              "      <td>Random Forest</td>\n",
              "      <td>0.75500</td>\n",
              "    </tr>\n",
              "    <tr>\n",
              "      <th>2</th>\n",
              "      <td>XGBoost</td>\n",
              "      <td>0.73125</td>\n",
              "    </tr>\n",
              "    <tr>\n",
              "      <th>3</th>\n",
              "      <td>Supprt Vector Machine</td>\n",
              "      <td>0.66625</td>\n",
              "    </tr>\n",
              "  </tbody>\n",
              "</table>\n",
              "</div>"
            ],
            "text/plain": [
              "                   Model  Accuracy\n",
              "0    Logistic Regression   0.72125\n",
              "1          Random Forest   0.75500\n",
              "2                XGBoost   0.73125\n",
              "3  Supprt Vector Machine   0.66625"
            ]
          },
          "execution_count": 19,
          "metadata": {},
          "output_type": "execute_result"
        }
      ],
      "source": [
        "# initialize list elements\n",
        "data = [['Logistic Regression', accuracy_score(y_test,y_pred_log)],['Random Forest',accuracy_score(y_test,y_pred_rf)] ,[ \"XGBoost\", accuracy_score(y_test,y_pred_xgb)] ,[ \"Supprt Vector Machine\",accuracy_score(y_test,y_pred_svc)]]\n",
        "  \n",
        "# Create the pandas DataFrame with column name is provided explicitly\n",
        "df = pd.DataFrame(data, columns=['Model','Accuracy'])\n",
        "print(\"For Bag of Words approach:\")\n",
        "df"
      ]
    },
    {
      "attachments": {},
      "cell_type": "markdown",
      "metadata": {
        "id": "Gw8UcOdpwhwp"
      },
      "source": [
        "The accuracy score of Random Forest is better compared to other models."
      ]
    },
    {
      "cell_type": "code",
      "execution_count": 20,
      "metadata": {
        "colab": {
          "base_uri": "https://localhost:8080/"
        },
        "id": "VE6ATg0UFSe7",
        "outputId": "3eebaf96-8298-46c2-d19a-810639c5d610"
      },
      "outputs": [
        {
          "data": {
            "text/plain": [
              "array([[421,  74],\n",
              "       [122, 183]], dtype=int64)"
            ]
          },
          "execution_count": 20,
          "metadata": {},
          "output_type": "execute_result"
        }
      ],
      "source": [
        "# Analysis of confusion matrix for Random forest model\n",
        "from sklearn.metrics import confusion_matrix\n",
        "\n",
        "# for random forest model\n",
        "confusion_matrix(y_test,y_pred_rf)"
      ]
    },
    {
      "cell_type": "code",
      "execution_count": 21,
      "metadata": {
        "colab": {
          "base_uri": "https://localhost:8080/"
        },
        "id": "fBr9g8ZrxXHz",
        "outputId": "192055d2-43dd-44fa-a9a7-50bba0e168e0"
      },
      "outputs": [
        {
          "name": "stdout",
          "output_type": "stream",
          "text": [
            "              precision    recall  f1-score   support\n",
            "\n",
            "           0       0.78      0.85      0.81       495\n",
            "           1       0.71      0.60      0.65       305\n",
            "\n",
            "    accuracy                           0.76       800\n",
            "   macro avg       0.74      0.73      0.73       800\n",
            "weighted avg       0.75      0.76      0.75       800\n",
            "\n"
          ]
        }
      ],
      "source": [
        "from sklearn.metrics import classification_report\n",
        "print(classification_report(y_test,y_pred_rf))"
      ]
    },
    {
      "cell_type": "code",
      "execution_count": 22,
      "metadata": {
        "id": "0VfqSCpxFSe7"
      },
      "outputs": [],
      "source": [
        "def test_common_words(q1,q2):\n",
        "    w1 = set(map(lambda word: word.lower().strip(), q1.split(\" \")))\n",
        "    w2 = set(map(lambda word: word.lower().strip(), q2.split(\" \")))    \n",
        "    return len(w1 & w2)\n",
        "\n",
        "def test_total_words(q1,q2):\n",
        "    w1 = set(map(lambda word: word.lower().strip(), q1.split(\" \")))\n",
        "    w2 = set(map(lambda word: word.lower().strip(), q2.split(\" \")))    \n",
        "    return (len(w1) + len(w2))\n",
        "\n",
        "def test_fetch_token_features(q1,q2):\n",
        "    \n",
        "    SAFE_DIV = 0.0001 \n",
        "\n",
        "    STOP_WORDS = stopwords.words(\"english\")\n",
        "    \n",
        "    token_features = [0.0]*8\n",
        "    \n",
        "    # Converting the Sentence into Tokens: \n",
        "    q1_tokens = q1.split()\n",
        "    q2_tokens = q2.split()\n",
        "    \n",
        "    if len(q1_tokens) == 0 or len(q2_tokens) == 0:\n",
        "        return token_features\n",
        "\n",
        "    # Get the non-stopwords in Questions\n",
        "    q1_words = set([word for word in q1_tokens if word not in STOP_WORDS])\n",
        "    q2_words = set([word for word in q2_tokens if word not in STOP_WORDS])\n",
        "    \n",
        "    #Get the stopwords in Questions\n",
        "    q1_stops = set([word for word in q1_tokens if word in STOP_WORDS])\n",
        "    q2_stops = set([word for word in q2_tokens if word in STOP_WORDS])\n",
        "    \n",
        "    # Get the common non-stopwords from Question pair\n",
        "    common_word_count = len(q1_words.intersection(q2_words))\n",
        "    \n",
        "    # Get the common stopwords from Question pair\n",
        "    common_stop_count = len(q1_stops.intersection(q2_stops))\n",
        "    \n",
        "    # Get the common Tokens from Question pair\n",
        "    common_token_count = len(set(q1_tokens).intersection(set(q2_tokens)))\n",
        "    \n",
        "    \n",
        "    token_features[0] = common_word_count / (min(len(q1_words), len(q2_words)) + SAFE_DIV)\n",
        "    token_features[1] = common_word_count / (max(len(q1_words), len(q2_words)) + SAFE_DIV)\n",
        "    token_features[2] = common_stop_count / (min(len(q1_stops), len(q2_stops)) + SAFE_DIV)\n",
        "    token_features[3] = common_stop_count / (max(len(q1_stops), len(q2_stops)) + SAFE_DIV)\n",
        "    token_features[4] = common_token_count / (min(len(q1_tokens), len(q2_tokens)) + SAFE_DIV)\n",
        "    token_features[5] = common_token_count / (max(len(q1_tokens), len(q2_tokens)) + SAFE_DIV)\n",
        "    \n",
        "    # Last word of both question is same or not\n",
        "    token_features[6] = int(q1_tokens[-1] == q2_tokens[-1])\n",
        "    \n",
        "    # First word of both question is same or not\n",
        "    token_features[7] = int(q1_tokens[0] == q2_tokens[0])\n",
        "    \n",
        "    return token_features\n",
        "\n",
        "def test_fetch_length_features(q1,q2):\n",
        "    \n",
        "    length_features = [0.0]*3\n",
        "    \n",
        "    # Converting the Sentence into Tokens: \n",
        "    q1_tokens = q1.split()\n",
        "    q2_tokens = q2.split()\n",
        "    \n",
        "    if len(q1_tokens) == 0 or len(q2_tokens) == 0:\n",
        "        return length_features\n",
        "    \n",
        "    # Absolute length features\n",
        "    length_features[0] = abs(len(q1_tokens) - len(q2_tokens))\n",
        "    \n",
        "    #Average Token Length of both Questions\n",
        "    length_features[1] = (len(q1_tokens) + len(q2_tokens))/2\n",
        "    \n",
        "    strs = list(distance.lcsubstrings(q1, q2))\n",
        "    length_features[2] = len(strs[0]) / (min(len(q1), len(q2)) + 1)\n",
        "    \n",
        "    return length_features\n",
        "\n",
        "def test_fetch_fuzzy_features(q1,q2):\n",
        "    \n",
        "    fuzzy_features = [0.0]*4\n",
        "    \n",
        "    # fuzz_ratio\n",
        "    fuzzy_features[0] = fuzz.QRatio(q1, q2)\n",
        "\n",
        "    # fuzz_partial_ratio\n",
        "    fuzzy_features[1] = fuzz.partial_ratio(q1, q2)\n",
        "\n",
        "    # token_sort_ratio\n",
        "    fuzzy_features[2] = fuzz.token_sort_ratio(q1, q2)\n",
        "\n",
        "    # token_set_ratio\n",
        "    fuzzy_features[3] = fuzz.token_set_ratio(q1, q2)\n",
        "\n",
        "    return fuzzy_features\n",
        "\n",
        "def query_point_creator(q1,q2):\n",
        "    \n",
        "    input_query = []\n",
        "    \n",
        "    # preprocess\n",
        "    q1 = preprocess(q1,'lem')\n",
        "    q2 = preprocess(q2,'lem')\n",
        "    \n",
        "    # fetch basic features\n",
        "    input_query.append(len(q1))\n",
        "    input_query.append(len(q2))\n",
        "    \n",
        "    input_query.append(len(q1.split(\" \")))\n",
        "    input_query.append(len(q2.split(\" \")))\n",
        "    \n",
        "    input_query.append(test_common_words(q1,q2))\n",
        "    input_query.append(test_total_words(q1,q2))\n",
        "    input_query.append(round(test_common_words(q1,q2)/test_total_words(q1,q2),2))\n",
        "    \n",
        "    # fetch token features\n",
        "    token_features = test_fetch_token_features(q1,q2)\n",
        "    input_query.extend(token_features)\n",
        "    \n",
        "    # fetch length based features\n",
        "    length_features = test_fetch_length_features(q1,q2)\n",
        "    input_query.extend(length_features)\n",
        "    \n",
        "    # fetch fuzzy features\n",
        "    fuzzy_features = test_fetch_fuzzy_features(q1,q2)\n",
        "    input_query.extend(fuzzy_features)\n",
        "    \n",
        "    # bow feature for q1\n",
        "    q1_bow = cv.transform([q1]).toarray()\n",
        "    \n",
        "    # bow feature for q2\n",
        "    q2_bow = cv.transform([q2]).toarray()\n",
        "    \n",
        "    \n",
        "    \n",
        "    return np.hstack((np.array(input_query).reshape(1,22),q1_bow,q2_bow))\n",
        "\n"
      ]
    },
    {
      "cell_type": "code",
      "execution_count": 23,
      "metadata": {
        "id": "Gqfy0fcjFSe8"
      },
      "outputs": [],
      "source": [
        "q1 = 'Where is the capital of India?'\n",
        "q2 = 'What is the current capital of Pakistan?'\n",
        "q3 = 'Which city serves as the capital of India?'\n",
        "q4 = 'What is the business capital of India?'"
      ]
    },
    {
      "cell_type": "code",
      "execution_count": 24,
      "metadata": {
        "id": "Gdfdo0RQFSe8"
      },
      "outputs": [],
      "source": [
        "## initialise the inbuilt Stemmer\n",
        "stemmer = PorterStemmer()\n",
        "\n",
        "## We can also use Lemmatizer instead of Stemmer\n",
        "lemmatizer = WordNetLemmatizer()"
      ]
    },
    {
      "cell_type": "code",
      "execution_count": 25,
      "metadata": {
        "id": "XzaVkGzAFSe9"
      },
      "outputs": [],
      "source": [
        "# preprocessing function\n",
        "def preprocess(q, flag):\n",
        "    \n",
        "    q = str(q).lower().strip()\n",
        "    \n",
        "    # Replace certain special characters with their string equivalents\n",
        "    q = q.replace('%', ' percent')\n",
        "    q = q.replace('$', ' dollar ')\n",
        "    q = q.replace('₹', ' rupee ')\n",
        "    q = q.replace('€', ' euro ')\n",
        "    q = q.replace('@', ' at ')\n",
        "    \n",
        "    # The pattern '[math]' appears around 900 times in the whole dataset.\n",
        "    q = q.replace('[math]', '')\n",
        "    \n",
        "    # Replacing some numbers with string equivalents (not perfect, can be done better to account for more cases)\n",
        "    q = q.replace(',000,000,000 ', 'b ')\n",
        "    q = q.replace(',000,000 ', 'm ')\n",
        "    q = q.replace(',000 ', 'k ')\n",
        "    q = re.sub(r'([0-9]+)000000000', r'\\1b', q)\n",
        "    q = re.sub(r'([0-9]+)000000', r'\\1m', q)\n",
        "    q = re.sub(r'([0-9]+)000', r'\\1k', q)\n",
        "    \n",
        "    # Decontracting words\n",
        "    # https://en.wikipedia.org/wiki/Wikipedia%3aList_of_English_contractions\n",
        "    # https://stackoverflow.com/a/19794953\n",
        "    contractions = { \n",
        "    \"ain't\": \"am not\",\n",
        "    \"aren't\": \"are not\",\n",
        "    \"can't\": \"can not\",\n",
        "    \"can't've\": \"can not have\",\n",
        "    \"'cause\": \"because\",\n",
        "    \"could've\": \"could have\",\n",
        "    \"couldn't\": \"could not\",\n",
        "    \"couldn't've\": \"could not have\",\n",
        "    \"didn't\": \"did not\",\n",
        "    \"doesn't\": \"does not\",\n",
        "    \"don't\": \"do not\",\n",
        "    \"hadn't\": \"had not\",\n",
        "    \"hadn't've\": \"had not have\",\n",
        "    \"hasn't\": \"has not\",\n",
        "    \"haven't\": \"have not\",\n",
        "    \"he'd\": \"he would\",\n",
        "    \"he'd've\": \"he would have\",\n",
        "    \"he'll\": \"he will\",\n",
        "    \"he'll've\": \"he will have\",\n",
        "    \"he's\": \"he is\",\n",
        "    \"how'd\": \"how did\",\n",
        "    \"how'd'y\": \"how do you\",\n",
        "    \"how'll\": \"how will\",\n",
        "    \"how's\": \"how is\",\n",
        "    \"i'd\": \"i would\",\n",
        "    \"i'd've\": \"i would have\",\n",
        "    \"i'll\": \"i will\",\n",
        "    \"i'll've\": \"i will have\",\n",
        "    \"i'm\": \"i am\",\n",
        "    \"i've\": \"i have\",\n",
        "    \"isn't\": \"is not\",\n",
        "    \"it'd\": \"it would\",\n",
        "    \"it'd've\": \"it would have\",\n",
        "    \"it'll\": \"it will\",\n",
        "    \"it'll've\": \"it will have\",\n",
        "    \"it's\": \"it is\",\n",
        "    \"let's\": \"let us\",\n",
        "    \"ma'am\": \"madam\",\n",
        "    \"mayn't\": \"may not\",\n",
        "    \"might've\": \"might have\",\n",
        "    \"mightn't\": \"might not\",\n",
        "    \"mightn't've\": \"might not have\",\n",
        "    \"must've\": \"must have\",\n",
        "    \"mustn't\": \"must not\",\n",
        "    \"mustn't've\": \"must not have\",\n",
        "    \"needn't\": \"need not\",\n",
        "    \"needn't've\": \"need not have\",\n",
        "    \"o'clock\": \"of the clock\",\n",
        "    \"oughtn't\": \"ought not\",\n",
        "    \"oughtn't've\": \"ought not have\",\n",
        "    \"shan't\": \"shall not\",\n",
        "    \"sha'n't\": \"shall not\",\n",
        "    \"shan't've\": \"shall not have\",\n",
        "    \"she'd\": \"she would\",\n",
        "    \"she'd've\": \"she would have\",\n",
        "    \"she'll\": \"she will\",\n",
        "    \"she'll've\": \"she will have\",\n",
        "    \"she's\": \"she is\",\n",
        "    \"should've\": \"should have\",\n",
        "    \"shouldn't\": \"should not\",\n",
        "    \"shouldn't've\": \"should not have\",\n",
        "    \"so've\": \"so have\",\n",
        "    \"so's\": \"so as\",\n",
        "    \"that'd\": \"that would\",\n",
        "    \"that'd've\": \"that would have\",\n",
        "    \"that's\": \"that is\",\n",
        "    \"there'd\": \"there would\",\n",
        "    \"there'd've\": \"there would have\",\n",
        "    \"there's\": \"there is\",\n",
        "    \"they'd\": \"they would\",\n",
        "    \"they'd've\": \"they would have\",\n",
        "    \"they'll\": \"they will\",\n",
        "    \"they'll've\": \"they will have\",\n",
        "    \"they're\": \"they are\",\n",
        "    \"they've\": \"they have\",\n",
        "    \"to've\": \"to have\",\n",
        "    \"wasn't\": \"was not\",\n",
        "    \"we'd\": \"we would\",\n",
        "    \"we'd've\": \"we would have\",\n",
        "    \"we'll\": \"we will\",\n",
        "    \"we'll've\": \"we will have\",\n",
        "    \"we're\": \"we are\",\n",
        "    \"we've\": \"we have\",\n",
        "    \"weren't\": \"were not\",\n",
        "    \"what'll\": \"what will\",\n",
        "    \"what'll've\": \"what will have\",\n",
        "    \"what're\": \"what are\",\n",
        "    \"what's\": \"what is\",\n",
        "    \"what've\": \"what have\",\n",
        "    \"when's\": \"when is\",\n",
        "    \"when've\": \"when have\",\n",
        "    \"where'd\": \"where did\",\n",
        "    \"where's\": \"where is\",\n",
        "    \"where've\": \"where have\",\n",
        "    \"who'll\": \"who will\",\n",
        "    \"who'll've\": \"who will have\",\n",
        "    \"who's\": \"who is\",\n",
        "    \"who've\": \"who have\",\n",
        "    \"why's\": \"why is\",\n",
        "    \"why've\": \"why have\",\n",
        "    \"will've\": \"will have\",\n",
        "    \"won't\": \"will not\",\n",
        "    \"won't've\": \"will not have\",\n",
        "    \"would've\": \"would have\",\n",
        "    \"wouldn't\": \"would not\",\n",
        "    \"wouldn't've\": \"would not have\",\n",
        "    \"y'all\": \"you all\",\n",
        "    \"y'all'd\": \"you all would\",\n",
        "    \"y'all'd've\": \"you all would have\",\n",
        "    \"y'all're\": \"you all are\",\n",
        "    \"y'all've\": \"you all have\",\n",
        "    \"you'd\": \"you would\",\n",
        "    \"you'd've\": \"you would have\",\n",
        "    \"you'll\": \"you will\",\n",
        "    \"you'll've\": \"you will have\",\n",
        "    \"you're\": \"you are\",\n",
        "    \"you've\": \"you have\"\n",
        "    }\n",
        "\n",
        "    q_decontracted = []\n",
        "\n",
        "    for word in q.split():\n",
        "        if word in contractions:\n",
        "            word = contractions[word]\n",
        "\n",
        "        q_decontracted.append(word)\n",
        "\n",
        "    q = ' '.join(q_decontracted)\n",
        "    q = q.replace(\"'ve\", \" have\")\n",
        "    q = q.replace(\"n't\", \" not\")\n",
        "    q = q.replace(\"'re\", \" are\")\n",
        "    q = q.replace(\"'ll\", \" will\")\n",
        "    \n",
        "    # Removing HTML tags\n",
        "    q = BeautifulSoup(q)\n",
        "    q = q.get_text()\n",
        "    \n",
        "    # Remove punctuations\n",
        "    pattern = re.compile('\\W')\n",
        "    q = re.sub(pattern, ' ', q).strip()\n",
        "    \n",
        "    # Stemming/Lemmatization\n",
        "    if(flag == 'stem'):\n",
        "        q = stemmer.stem(q)\n",
        "    else:\n",
        "        q = lemmatizer.lemmatize(q)\n",
        "        \n",
        "    return q\n"
      ]
    },
    {
      "cell_type": "code",
      "execution_count": 26,
      "metadata": {
        "colab": {
          "base_uri": "https://localhost:8080/"
        },
        "id": "xVKMpIIIFSe_",
        "outputId": "9a4f87b2-2bdc-4510-dcaf-d4abb4edc0ed"
      },
      "outputs": [
        {
          "data": {
            "text/plain": [
              "array([1], dtype=int64)"
            ]
          },
          "execution_count": 26,
          "metadata": {},
          "output_type": "execute_result"
        }
      ],
      "source": [
        "rf.predict(query_point_creator(q1,q4))"
      ]
    },
    {
      "cell_type": "code",
      "execution_count": 27,
      "metadata": {
        "id": "cFgNTugDFSfB"
      },
      "outputs": [],
      "source": [
        "import pickle\n",
        "\n",
        "pickle.dump(rf,open('mlruns/model.pkl','wb'))\n",
        "pickle.dump(cv,open('mlruns/cv.pkl','wb'))"
      ]
    },
    {
      "cell_type": "code",
      "execution_count": 28,
      "metadata": {
        "id": "s2hXvHq2FSfB"
      },
      "outputs": [],
      "source": [
        "# Tracking-Experiment-Logistic_regression\n",
        "\n",
        "from sklearn import metrics\n",
        "\n",
        "with mlflow.start_run(nested=True):\n",
        "    mlflow.set_tag(\"dev\", \"Team15\")\n",
        "    mlflow.set_tag(\"algo\", \"Logit\")\n",
        "    # log the data for each run using log_param, log_metric, log_model\n",
        "    mlflow.log_param(\"data-path\", \"train.csv\")\n",
        "    C = 0.1\n",
        "    mlflow.log_param(\"C\", C)\n",
        "    lr_classifier_bow = LogisticRegression(C=C)\n",
        "    lr_classifier_bow.fit(X_train, y_train)\n",
        "    y_pred = lr_classifier_bow.predict(X_test)\n",
        "   \n",
        "    acc = metrics.accuracy_score(y_test, y_pred)    \n",
        "    mlflow.log_metric(\"accuracy\", acc)\n",
        "    mlflow.sklearn.log_model(lr_classifier_bow, artifact_path=\"mlruns\")\n",
        "    mlflow.log_artifact(\"mlruns/cv.pkl\")\n",
        "\n",
        "\n"
      ]
    },
    {
      "cell_type": "code",
      "execution_count": 29,
      "metadata": {
        "id": "UwTUAEeqFSfC"
      },
      "outputs": [],
      "source": [
        "# Tracking-Experiment - Random Forest\n",
        "\n",
        "from sklearn.ensemble import RandomForestClassifier\n",
        "from sklearn.metrics import accuracy_score\n",
        "with mlflow.start_run():\n",
        "    mlflow.set_tag(\"dev\", \"Team15\")\n",
        "    mlflow.set_tag(\"algo\", \"rf_bow\")\n",
        "    # log the data for each run using log_param, log_metric, log_model\n",
        "    mlflow.log_param(\"data-path\", \"train.csv\")\n",
        "    \n",
        "    rf_bow = RandomForestClassifier()\n",
        "    rf_bow.fit(X_train,y_train)\n",
        "    y_pred = rf_bow.predict(X_test)\n",
        "    accuracy_score(y_test,y_pred)\n",
        "    mlflow.log_metric(\"accuracy\", acc)\n",
        "    mlflow.sklearn.log_model(rf_bow, artifact_path=\"mlruns\")\n",
        "    mlflow.log_artifact(\"mlruns/cv.pkl\")"
      ]
    },
    {
      "cell_type": "code",
      "execution_count": 30,
      "metadata": {
        "id": "FoYeirzYFSfD"
      },
      "outputs": [],
      "source": [
        "# Tracking -Experiment -SVM\n",
        "\n",
        "from sklearn.svm import SVC\n",
        "\n",
        "with mlflow.start_run():\n",
        "    mlflow.set_tag(\"dev\", \"Team15\")\n",
        "    mlflow.set_tag(\"algo\", \"SVM_bow\")\n",
        "    # log the data for each run using log_param, log_metric, log_model\n",
        "    mlflow.log_param(\"data-path\", \"train.csv\")\n",
        "    C = 0.1\n",
        "    mlflow.log_param(\"C\", C)\n",
        "    sv_classifier_bow = SVC(C=C)\n",
        "    sv_classifier_bow.fit(X_train, y_train)\n",
        "    y_pred = sv_classifier_bow.predict(X_test)\n",
        "    acc = metrics.accuracy_score(y_test, y_pred)    \n",
        "    mlflow.log_metric(\"accuracy\", acc)\n",
        "    mlflow.sklearn.log_model(sv_classifier_bow, artifact_path=\"mlruns\")\n",
        "    mlflow.log_artifact(\"mlruns/cv.pkl\")"
      ]
    },
    {
      "attachments": {},
      "cell_type": "markdown",
      "metadata": {
        "id": "GYtECQoALKph"
      },
      "source": [
        "# **TF - IDF approach using TfidfVectorizer**"
      ]
    },
    {
      "cell_type": "code",
      "execution_count": 31,
      "metadata": {
        "colab": {
          "base_uri": "https://localhost:8080/"
        },
        "id": "Ptyo2tEJFSfD",
        "outputId": "238562f0-8ee1-48ec-907d-566f201e1909"
      },
      "outputs": [
        {
          "data": {
            "text/plain": [
              "(4000, 18362)"
            ]
          },
          "execution_count": 31,
          "metadata": {},
          "output_type": "execute_result"
        }
      ],
      "source": [
        "questions = list(ques_df['Clean_q1_lem']) + list(ques_df['Clean_q2_lem'])\n",
        "\n",
        "# TF-IDF\n",
        "\n",
        "from sklearn.feature_extraction.text import TfidfVectorizer\n",
        "\n",
        "vectorizer = TfidfVectorizer()\n",
        "dtm = vectorizer.fit_transform(questions)\n",
        "q1_arr, q2_arr = np.vsplit(vectorizer.fit_transform(questions).toarray(),2)\n",
        "temp_df1 = pd.DataFrame(q1_arr, index= ques_df.index)\n",
        "temp_df2 = pd.DataFrame(q2_arr, index= ques_df.index)\n",
        "temp_df = pd.concat([temp_df1, temp_df2], axis=1)\n",
        "temp_df.shape"
      ]
    },
    {
      "cell_type": "code",
      "execution_count": 32,
      "metadata": {
        "colab": {
          "base_uri": "https://localhost:8080/",
          "height": 317
        },
        "id": "ZDgGLBOp0QVp",
        "outputId": "70495e40-e0f1-487a-c9a3-b4f38ecc1823"
      },
      "outputs": [
        {
          "name": "stdout",
          "output_type": "stream",
          "text": [
            "(4000, 24385)\n"
          ]
        },
        {
          "data": {
            "text/html": [
              "<div>\n",
              "<style scoped>\n",
              "    .dataframe tbody tr th:only-of-type {\n",
              "        vertical-align: middle;\n",
              "    }\n",
              "\n",
              "    .dataframe tbody tr th {\n",
              "        vertical-align: top;\n",
              "    }\n",
              "\n",
              "    .dataframe thead th {\n",
              "        text-align: right;\n",
              "    }\n",
              "</style>\n",
              "<table border=\"1\" class=\"dataframe\">\n",
              "  <thead>\n",
              "    <tr style=\"text-align: right;\">\n",
              "      <th></th>\n",
              "      <th>is_duplicate</th>\n",
              "      <th>q1_len</th>\n",
              "      <th>q1_num_words</th>\n",
              "      <th>q2_len</th>\n",
              "      <th>q2_num_words</th>\n",
              "      <th>word_common</th>\n",
              "      <th>word_total</th>\n",
              "      <th>word_share</th>\n",
              "      <th>cwc_min</th>\n",
              "      <th>cwc_max</th>\n",
              "      <th>...</th>\n",
              "      <th>9171</th>\n",
              "      <th>9172</th>\n",
              "      <th>9173</th>\n",
              "      <th>9174</th>\n",
              "      <th>9175</th>\n",
              "      <th>9176</th>\n",
              "      <th>9177</th>\n",
              "      <th>9178</th>\n",
              "      <th>9179</th>\n",
              "      <th>9180</th>\n",
              "    </tr>\n",
              "  </thead>\n",
              "  <tbody>\n",
              "    <tr>\n",
              "      <th>0</th>\n",
              "      <td>0</td>\n",
              "      <td>33</td>\n",
              "      <td>8</td>\n",
              "      <td>33</td>\n",
              "      <td>8</td>\n",
              "      <td>7</td>\n",
              "      <td>16</td>\n",
              "      <td>0.44</td>\n",
              "      <td>0.833319</td>\n",
              "      <td>0.833319</td>\n",
              "      <td>...</td>\n",
              "      <td>0.0</td>\n",
              "      <td>0.0</td>\n",
              "      <td>0.0</td>\n",
              "      <td>0.0</td>\n",
              "      <td>0.0</td>\n",
              "      <td>0.0</td>\n",
              "      <td>0.0</td>\n",
              "      <td>0.0</td>\n",
              "      <td>0.0</td>\n",
              "      <td>0.0</td>\n",
              "    </tr>\n",
              "    <tr>\n",
              "      <th>1</th>\n",
              "      <td>0</td>\n",
              "      <td>52</td>\n",
              "      <td>11</td>\n",
              "      <td>50</td>\n",
              "      <td>9</td>\n",
              "      <td>6</td>\n",
              "      <td>20</td>\n",
              "      <td>0.30</td>\n",
              "      <td>0.499992</td>\n",
              "      <td>0.499992</td>\n",
              "      <td>...</td>\n",
              "      <td>0.0</td>\n",
              "      <td>0.0</td>\n",
              "      <td>0.0</td>\n",
              "      <td>0.0</td>\n",
              "      <td>0.0</td>\n",
              "      <td>0.0</td>\n",
              "      <td>0.0</td>\n",
              "      <td>0.0</td>\n",
              "      <td>0.0</td>\n",
              "      <td>0.0</td>\n",
              "    </tr>\n",
              "    <tr>\n",
              "      <th>2</th>\n",
              "      <td>0</td>\n",
              "      <td>95</td>\n",
              "      <td>17</td>\n",
              "      <td>44</td>\n",
              "      <td>8</td>\n",
              "      <td>2</td>\n",
              "      <td>25</td>\n",
              "      <td>0.08</td>\n",
              "      <td>0.000000</td>\n",
              "      <td>0.000000</td>\n",
              "      <td>...</td>\n",
              "      <td>0.0</td>\n",
              "      <td>0.0</td>\n",
              "      <td>0.0</td>\n",
              "      <td>0.0</td>\n",
              "      <td>0.0</td>\n",
              "      <td>0.0</td>\n",
              "      <td>0.0</td>\n",
              "      <td>0.0</td>\n",
              "      <td>0.0</td>\n",
              "      <td>0.0</td>\n",
              "    </tr>\n",
              "    <tr>\n",
              "      <th>3</th>\n",
              "      <td>1</td>\n",
              "      <td>43</td>\n",
              "      <td>7</td>\n",
              "      <td>51</td>\n",
              "      <td>9</td>\n",
              "      <td>6</td>\n",
              "      <td>16</td>\n",
              "      <td>0.38</td>\n",
              "      <td>0.666656</td>\n",
              "      <td>0.666656</td>\n",
              "      <td>...</td>\n",
              "      <td>0.0</td>\n",
              "      <td>0.0</td>\n",
              "      <td>0.0</td>\n",
              "      <td>0.0</td>\n",
              "      <td>0.0</td>\n",
              "      <td>0.0</td>\n",
              "      <td>0.0</td>\n",
              "      <td>0.0</td>\n",
              "      <td>0.0</td>\n",
              "      <td>0.0</td>\n",
              "    </tr>\n",
              "    <tr>\n",
              "      <th>4</th>\n",
              "      <td>1</td>\n",
              "      <td>37</td>\n",
              "      <td>9</td>\n",
              "      <td>28</td>\n",
              "      <td>7</td>\n",
              "      <td>4</td>\n",
              "      <td>16</td>\n",
              "      <td>0.25</td>\n",
              "      <td>0.399992</td>\n",
              "      <td>0.333328</td>\n",
              "      <td>...</td>\n",
              "      <td>0.0</td>\n",
              "      <td>0.0</td>\n",
              "      <td>0.0</td>\n",
              "      <td>0.0</td>\n",
              "      <td>0.0</td>\n",
              "      <td>0.0</td>\n",
              "      <td>0.0</td>\n",
              "      <td>0.0</td>\n",
              "      <td>0.0</td>\n",
              "      <td>0.0</td>\n",
              "    </tr>\n",
              "  </tbody>\n",
              "</table>\n",
              "<p>5 rows × 24385 columns</p>\n",
              "</div>"
            ],
            "text/plain": [
              "   is_duplicate  q1_len  q1_num_words  q2_len  q2_num_words  word_common  \\\n",
              "0             0      33             8      33             8            7   \n",
              "1             0      52            11      50             9            6   \n",
              "2             0      95            17      44             8            2   \n",
              "3             1      43             7      51             9            6   \n",
              "4             1      37             9      28             7            4   \n",
              "\n",
              "   word_total  word_share   cwc_min   cwc_max  ...  9171  9172  9173  9174  \\\n",
              "0          16        0.44  0.833319  0.833319  ...   0.0   0.0   0.0   0.0   \n",
              "1          20        0.30  0.499992  0.499992  ...   0.0   0.0   0.0   0.0   \n",
              "2          25        0.08  0.000000  0.000000  ...   0.0   0.0   0.0   0.0   \n",
              "3          16        0.38  0.666656  0.666656  ...   0.0   0.0   0.0   0.0   \n",
              "4          16        0.25  0.399992  0.333328  ...   0.0   0.0   0.0   0.0   \n",
              "\n",
              "   9175  9176  9177  9178  9179  9180  \n",
              "0   0.0   0.0   0.0   0.0   0.0   0.0  \n",
              "1   0.0   0.0   0.0   0.0   0.0   0.0  \n",
              "2   0.0   0.0   0.0   0.0   0.0   0.0  \n",
              "3   0.0   0.0   0.0   0.0   0.0   0.0  \n",
              "4   0.0   0.0   0.0   0.0   0.0   0.0  \n",
              "\n",
              "[5 rows x 24385 columns]"
            ]
          },
          "execution_count": 32,
          "metadata": {},
          "output_type": "execute_result"
        }
      ],
      "source": [
        "final_df = pd.concat([final_df, temp_df], axis=1)\n",
        "print(final_df.shape)\n",
        "final_df.head()"
      ]
    },
    {
      "cell_type": "code",
      "execution_count": 33,
      "metadata": {
        "colab": {
          "base_uri": "https://localhost:8080/",
          "height": 334
        },
        "id": "0IcIPZ8mFSfE",
        "outputId": "c87b7ecf-924b-4dbc-8db6-8b3be8217e77"
      },
      "outputs": [
        {
          "data": {
            "text/html": [
              "<div>\n",
              "<style scoped>\n",
              "    .dataframe tbody tr th:only-of-type {\n",
              "        vertical-align: middle;\n",
              "    }\n",
              "\n",
              "    .dataframe tbody tr th {\n",
              "        vertical-align: top;\n",
              "    }\n",
              "\n",
              "    .dataframe thead th {\n",
              "        text-align: right;\n",
              "    }\n",
              "</style>\n",
              "<table border=\"1\" class=\"dataframe\">\n",
              "  <thead>\n",
              "    <tr style=\"text-align: right;\">\n",
              "      <th></th>\n",
              "      <th>00</th>\n",
              "      <th>000</th>\n",
              "      <th>00k</th>\n",
              "      <th>012</th>\n",
              "      <th>034</th>\n",
              "      <th>09</th>\n",
              "      <th>0a</th>\n",
              "      <th>0v</th>\n",
              "      <th>0x0c0007</th>\n",
              "      <th>10</th>\n",
              "      <th>...</th>\n",
              "      <th>α2</th>\n",
              "      <th>خلوة</th>\n",
              "      <th>سعيد</th>\n",
              "      <th>سنة</th>\n",
              "      <th>عيد</th>\n",
              "      <th>مولد</th>\n",
              "      <th>学位课</th>\n",
              "      <th>必修课</th>\n",
              "      <th>选修课</th>\n",
              "      <th>鹵水</th>\n",
              "    </tr>\n",
              "  </thead>\n",
              "  <tbody>\n",
              "    <tr>\n",
              "      <th>0</th>\n",
              "      <td>0.0</td>\n",
              "      <td>0.0</td>\n",
              "      <td>0.0</td>\n",
              "      <td>0.0</td>\n",
              "      <td>0.0</td>\n",
              "      <td>0.0</td>\n",
              "      <td>0.0</td>\n",
              "      <td>0.0</td>\n",
              "      <td>0.0</td>\n",
              "      <td>0.0</td>\n",
              "      <td>...</td>\n",
              "      <td>0.0</td>\n",
              "      <td>0.0</td>\n",
              "      <td>0.0</td>\n",
              "      <td>0.0</td>\n",
              "      <td>0.0</td>\n",
              "      <td>0.0</td>\n",
              "      <td>0.0</td>\n",
              "      <td>0.0</td>\n",
              "      <td>0.0</td>\n",
              "      <td>0.0</td>\n",
              "    </tr>\n",
              "    <tr>\n",
              "      <th>1</th>\n",
              "      <td>0.0</td>\n",
              "      <td>0.0</td>\n",
              "      <td>0.0</td>\n",
              "      <td>0.0</td>\n",
              "      <td>0.0</td>\n",
              "      <td>0.0</td>\n",
              "      <td>0.0</td>\n",
              "      <td>0.0</td>\n",
              "      <td>0.0</td>\n",
              "      <td>0.0</td>\n",
              "      <td>...</td>\n",
              "      <td>0.0</td>\n",
              "      <td>0.0</td>\n",
              "      <td>0.0</td>\n",
              "      <td>0.0</td>\n",
              "      <td>0.0</td>\n",
              "      <td>0.0</td>\n",
              "      <td>0.0</td>\n",
              "      <td>0.0</td>\n",
              "      <td>0.0</td>\n",
              "      <td>0.0</td>\n",
              "    </tr>\n",
              "    <tr>\n",
              "      <th>2</th>\n",
              "      <td>0.0</td>\n",
              "      <td>0.0</td>\n",
              "      <td>0.0</td>\n",
              "      <td>0.0</td>\n",
              "      <td>0.0</td>\n",
              "      <td>0.0</td>\n",
              "      <td>0.0</td>\n",
              "      <td>0.0</td>\n",
              "      <td>0.0</td>\n",
              "      <td>0.0</td>\n",
              "      <td>...</td>\n",
              "      <td>0.0</td>\n",
              "      <td>0.0</td>\n",
              "      <td>0.0</td>\n",
              "      <td>0.0</td>\n",
              "      <td>0.0</td>\n",
              "      <td>0.0</td>\n",
              "      <td>0.0</td>\n",
              "      <td>0.0</td>\n",
              "      <td>0.0</td>\n",
              "      <td>0.0</td>\n",
              "    </tr>\n",
              "    <tr>\n",
              "      <th>3</th>\n",
              "      <td>0.0</td>\n",
              "      <td>0.0</td>\n",
              "      <td>0.0</td>\n",
              "      <td>0.0</td>\n",
              "      <td>0.0</td>\n",
              "      <td>0.0</td>\n",
              "      <td>0.0</td>\n",
              "      <td>0.0</td>\n",
              "      <td>0.0</td>\n",
              "      <td>0.0</td>\n",
              "      <td>...</td>\n",
              "      <td>0.0</td>\n",
              "      <td>0.0</td>\n",
              "      <td>0.0</td>\n",
              "      <td>0.0</td>\n",
              "      <td>0.0</td>\n",
              "      <td>0.0</td>\n",
              "      <td>0.0</td>\n",
              "      <td>0.0</td>\n",
              "      <td>0.0</td>\n",
              "      <td>0.0</td>\n",
              "    </tr>\n",
              "    <tr>\n",
              "      <th>4</th>\n",
              "      <td>0.0</td>\n",
              "      <td>0.0</td>\n",
              "      <td>0.0</td>\n",
              "      <td>0.0</td>\n",
              "      <td>0.0</td>\n",
              "      <td>0.0</td>\n",
              "      <td>0.0</td>\n",
              "      <td>0.0</td>\n",
              "      <td>0.0</td>\n",
              "      <td>0.0</td>\n",
              "      <td>...</td>\n",
              "      <td>0.0</td>\n",
              "      <td>0.0</td>\n",
              "      <td>0.0</td>\n",
              "      <td>0.0</td>\n",
              "      <td>0.0</td>\n",
              "      <td>0.0</td>\n",
              "      <td>0.0</td>\n",
              "      <td>0.0</td>\n",
              "      <td>0.0</td>\n",
              "      <td>0.0</td>\n",
              "    </tr>\n",
              "  </tbody>\n",
              "</table>\n",
              "<p>5 rows × 9181 columns</p>\n",
              "</div>"
            ],
            "text/plain": [
              "    00  000  00k  012  034   09   0a   0v  0x0c0007   10  ...   α2  خلوة  \\\n",
              "0  0.0  0.0  0.0  0.0  0.0  0.0  0.0  0.0       0.0  0.0  ...  0.0   0.0   \n",
              "1  0.0  0.0  0.0  0.0  0.0  0.0  0.0  0.0       0.0  0.0  ...  0.0   0.0   \n",
              "2  0.0  0.0  0.0  0.0  0.0  0.0  0.0  0.0       0.0  0.0  ...  0.0   0.0   \n",
              "3  0.0  0.0  0.0  0.0  0.0  0.0  0.0  0.0       0.0  0.0  ...  0.0   0.0   \n",
              "4  0.0  0.0  0.0  0.0  0.0  0.0  0.0  0.0       0.0  0.0  ...  0.0   0.0   \n",
              "\n",
              "   سعيد  سنة  عيد  مولد  学位课  必修课  选修课   鹵水  \n",
              "0   0.0  0.0  0.0   0.0  0.0  0.0  0.0  0.0  \n",
              "1   0.0  0.0  0.0   0.0  0.0  0.0  0.0  0.0  \n",
              "2   0.0  0.0  0.0   0.0  0.0  0.0  0.0  0.0  \n",
              "3   0.0  0.0  0.0   0.0  0.0  0.0  0.0  0.0  \n",
              "4   0.0  0.0  0.0   0.0  0.0  0.0  0.0  0.0  \n",
              "\n",
              "[5 rows x 9181 columns]"
            ]
          },
          "execution_count": 33,
          "metadata": {},
          "output_type": "execute_result"
        }
      ],
      "source": [
        "from sklearn.model_selection import train_test_split\n",
        "X_train,X_test,y_train,y_test = train_test_split(final_df.iloc[:,1:].values,final_df.iloc[:,0].values,test_size=0.2,random_state=1)\n",
        "\n",
        "pickle.dump(vectorizer,open('mlruns/vectorizer.pkl','wb'))\n",
        "pd.DataFrame(dtm.toarray(), columns=sorted(vectorizer.vocabulary_)).head()"
      ]
    },
    {
      "attachments": {},
      "cell_type": "markdown",
      "metadata": {
        "id": "OMAQCRmr_ABt"
      },
      "source": [
        "**Logistic regression**"
      ]
    },
    {
      "cell_type": "code",
      "execution_count": 34,
      "metadata": {
        "colab": {
          "base_uri": "https://localhost:8080/"
        },
        "id": "_qZl82p-1XQk",
        "outputId": "a77b1d5f-7549-4381-c2ee-deda9804c74c"
      },
      "outputs": [
        {
          "name": "stdout",
          "output_type": "stream",
          "text": [
            "              precision    recall  f1-score   support\n",
            "\n",
            "           0       0.75      0.83      0.79       495\n",
            "           1       0.67      0.55      0.61       305\n",
            "\n",
            "    accuracy                           0.73       800\n",
            "   macro avg       0.71      0.69      0.70       800\n",
            "weighted avg       0.72      0.72      0.72       800\n",
            "\n"
          ]
        }
      ],
      "source": [
        "# Logistic Regression for TF-IDF\n",
        "lr_classifier_tfidf = LogisticRegression(C=C)\n",
        "lr_classifier_tfidf.fit(X_train, y_train)\n",
        "y_pred_log = lr_classifier_tfidf.predict(X_test)\n",
        "print(classification_report(y_test, y_pred_log))"
      ]
    },
    {
      "attachments": {},
      "cell_type": "markdown",
      "metadata": {
        "id": "plHlCsvi-8Jd"
      },
      "source": [
        "**Random Forest**"
      ]
    },
    {
      "cell_type": "code",
      "execution_count": 35,
      "metadata": {
        "colab": {
          "base_uri": "https://localhost:8080/"
        },
        "id": "af-91wae2DdD",
        "outputId": "e0033fb5-f80b-4c3c-8262-5ac2b240d52d"
      },
      "outputs": [
        {
          "name": "stdout",
          "output_type": "stream",
          "text": [
            "              precision    recall  f1-score   support\n",
            "\n",
            "           0       0.74      0.88      0.81       495\n",
            "           1       0.72      0.51      0.60       305\n",
            "\n",
            "    accuracy                           0.74       800\n",
            "   macro avg       0.73      0.69      0.70       800\n",
            "weighted avg       0.73      0.74      0.73       800\n",
            "\n"
          ]
        }
      ],
      "source": [
        "# Random forest for TF-IDF\n",
        "rf_tfidf = RandomForestClassifier()\n",
        "rf_tfidf.fit(X_train,y_train)\n",
        "y_pred_rf = rf_tfidf.predict(X_test)\n",
        "print(classification_report(y_test, y_pred_rf))"
      ]
    },
    {
      "attachments": {},
      "cell_type": "markdown",
      "metadata": {
        "id": "sqCi9slJ-3FW"
      },
      "source": [
        "**Support vector Machine**"
      ]
    },
    {
      "cell_type": "code",
      "execution_count": 36,
      "metadata": {
        "colab": {
          "base_uri": "https://localhost:8080/"
        },
        "id": "NUh06qYM2wum",
        "outputId": "b4f61880-92e0-4224-8a95-b992f671a54a"
      },
      "outputs": [
        {
          "name": "stdout",
          "output_type": "stream",
          "text": [
            "              precision    recall  f1-score   support\n",
            "\n",
            "           0       0.71      0.76      0.73       495\n",
            "           1       0.56      0.50      0.52       305\n",
            "\n",
            "    accuracy                           0.66       800\n",
            "   macro avg       0.63      0.63      0.63       800\n",
            "weighted avg       0.65      0.66      0.65       800\n",
            "\n"
          ]
        }
      ],
      "source": [
        "# SVC for TF-IDF\n",
        "sv_classifier_tfidf = SVC(C=C)\n",
        "sv_classifier_tfidf.fit(X_train, y_train)\n",
        "y_pred_svc = sv_classifier_tfidf.predict(X_test)\n",
        "print(classification_report(y_test, y_pred_svc))"
      ]
    },
    {
      "attachments": {},
      "cell_type": "markdown",
      "metadata": {
        "id": "7kVhCSDg-y0J"
      },
      "source": [
        "**XGBoost**"
      ]
    },
    {
      "cell_type": "code",
      "execution_count": 37,
      "metadata": {
        "colab": {
          "base_uri": "https://localhost:8080/"
        },
        "id": "HCskh3R44OU4",
        "outputId": "4f7fc77d-80f9-49fe-8ee5-1a26b6ab0acf"
      },
      "outputs": [
        {
          "name": "stdout",
          "output_type": "stream",
          "text": [
            "              precision    recall  f1-score   support\n",
            "\n",
            "           0       0.76      0.83      0.80       495\n",
            "           1       0.68      0.58      0.63       305\n",
            "\n",
            "    accuracy                           0.74       800\n",
            "   macro avg       0.72      0.71      0.71       800\n",
            "weighted avg       0.73      0.74      0.73       800\n",
            "\n"
          ]
        }
      ],
      "source": [
        "xgb_tfidf = XGBClassifier()\n",
        "xgb_tfidf.fit(X_train,y_train)\n",
        "y_pred_xgb = xgb_tfidf.predict(X_test)\n",
        "print(classification_report(y_test, y_pred_xgb))"
      ]
    },
    {
      "cell_type": "code",
      "execution_count": 38,
      "metadata": {
        "colab": {
          "base_uri": "https://localhost:8080/",
          "height": 193
        },
        "id": "qGsHSpyF7CAo",
        "outputId": "45175686-e063-4678-89b0-89ee8e7ff73f"
      },
      "outputs": [
        {
          "name": "stdout",
          "output_type": "stream",
          "text": [
            "For TF - IDF approach:\n"
          ]
        },
        {
          "data": {
            "text/html": [
              "<div>\n",
              "<style scoped>\n",
              "    .dataframe tbody tr th:only-of-type {\n",
              "        vertical-align: middle;\n",
              "    }\n",
              "\n",
              "    .dataframe tbody tr th {\n",
              "        vertical-align: top;\n",
              "    }\n",
              "\n",
              "    .dataframe thead th {\n",
              "        text-align: right;\n",
              "    }\n",
              "</style>\n",
              "<table border=\"1\" class=\"dataframe\">\n",
              "  <thead>\n",
              "    <tr style=\"text-align: right;\">\n",
              "      <th></th>\n",
              "      <th>Model</th>\n",
              "      <th>Accuracy</th>\n",
              "    </tr>\n",
              "  </thead>\n",
              "  <tbody>\n",
              "    <tr>\n",
              "      <th>0</th>\n",
              "      <td>Logistic Regression</td>\n",
              "      <td>0.72500</td>\n",
              "    </tr>\n",
              "    <tr>\n",
              "      <th>1</th>\n",
              "      <td>Random Forest</td>\n",
              "      <td>0.73750</td>\n",
              "    </tr>\n",
              "    <tr>\n",
              "      <th>2</th>\n",
              "      <td>XGBoost</td>\n",
              "      <td>0.73625</td>\n",
              "    </tr>\n",
              "    <tr>\n",
              "      <th>3</th>\n",
              "      <td>Support Vector Machine</td>\n",
              "      <td>0.65750</td>\n",
              "    </tr>\n",
              "  </tbody>\n",
              "</table>\n",
              "</div>"
            ],
            "text/plain": [
              "                    Model  Accuracy\n",
              "0     Logistic Regression   0.72500\n",
              "1           Random Forest   0.73750\n",
              "2                 XGBoost   0.73625\n",
              "3  Support Vector Machine   0.65750"
            ]
          },
          "execution_count": 38,
          "metadata": {},
          "output_type": "execute_result"
        }
      ],
      "source": [
        "# initialize list elements\n",
        "data = [['Logistic Regression', accuracy_score(y_test,y_pred_log)],['Random Forest',accuracy_score(y_test,y_pred_rf)] ,[ \"XGBoost\", accuracy_score(y_test,y_pred_xgb)] ,[ \"Support Vector Machine\",accuracy_score(y_test,y_pred_svc)]]\n",
        "  \n",
        "# Create the pandas DataFrame with column name is provided explicitly\n",
        "df = pd.DataFrame(data, columns=['Model','Accuracy'])\n",
        "print(\"For TF - IDF approach:\")\n",
        "df"
      ]
    },
    {
      "attachments": {},
      "cell_type": "markdown",
      "metadata": {
        "id": "y_BGwlU0R79y"
      },
      "source": [
        "The accuracy score of Random Forest is better compared to other models."
      ]
    },
    {
      "cell_type": "code",
      "execution_count": 39,
      "metadata": {
        "colab": {
          "base_uri": "https://localhost:8080/"
        },
        "id": "7X9rrSAIR7-L",
        "outputId": "bd81d1a1-ffb5-4c12-dad5-c100cd9ceae2"
      },
      "outputs": [
        {
          "data": {
            "text/plain": [
              "array([[435,  60],\n",
              "       [150, 155]], dtype=int64)"
            ]
          },
          "execution_count": 39,
          "metadata": {},
          "output_type": "execute_result"
        }
      ],
      "source": [
        "# Analysis of confusion matrix for Random forest model\n",
        "from sklearn.metrics import confusion_matrix\n",
        "\n",
        "# for random forest model\n",
        "confusion_matrix(y_test,y_pred_rf)"
      ]
    },
    {
      "cell_type": "code",
      "execution_count": 40,
      "metadata": {
        "colab": {
          "base_uri": "https://localhost:8080/"
        },
        "id": "5_gV6L5IR7-L",
        "outputId": "caaa37b1-7bc1-46c0-bb74-af2fea6a4c1f"
      },
      "outputs": [
        {
          "name": "stdout",
          "output_type": "stream",
          "text": [
            "              precision    recall  f1-score   support\n",
            "\n",
            "           0       0.74      0.88      0.81       495\n",
            "           1       0.72      0.51      0.60       305\n",
            "\n",
            "    accuracy                           0.74       800\n",
            "   macro avg       0.73      0.69      0.70       800\n",
            "weighted avg       0.73      0.74      0.73       800\n",
            "\n"
          ]
        }
      ],
      "source": [
        "from sklearn.metrics import classification_report\n",
        "print(classification_report(y_test,y_pred_rf))"
      ]
    },
    {
      "cell_type": "code",
      "execution_count": 41,
      "metadata": {
        "id": "jUQwoKXkFSfE"
      },
      "outputs": [],
      "source": [
        "# Experiment Tracking for TFIDF Logistic Regression\n",
        "\n",
        "with mlflow.start_run():\n",
        "    mlflow.set_tag(\"dev\", \"Team15\")\n",
        "    mlflow.set_tag(\"algo\", \"Logit_tfidf\")\n",
        "    # log the data for each run using log_param, log_metric, log_model\n",
        "    mlflow.log_param(\"data-path\", \"train.csv\")\n",
        "    C = 0.1\n",
        "    mlflow.log_param(\"C\", C)\n",
        "    lr_classifier_tfidf = LogisticRegression(C=C)\n",
        "    lr_classifier_tfidf.fit(X_train, y_train)\n",
        "    y_pred = lr_classifier_tfidf.predict(X_test)\n",
        "   \n",
        "    acc = accuracy_score(y_test, y_pred)    \n",
        "    mlflow.log_metric(\"accuracy\", acc)\n",
        "    mlflow.sklearn.log_model(lr_classifier_tfidf, artifact_path=\"mlruns\")\n",
        "    mlflow.log_artifact(\"mlruns/vectorizer.pkl\")"
      ]
    },
    {
      "cell_type": "code",
      "execution_count": 42,
      "metadata": {
        "id": "aHtzjkZ0FSfE"
      },
      "outputs": [],
      "source": [
        "# Experiment Tracking for TFIDF Random Forest\n",
        "\n",
        "from sklearn.ensemble import RandomForestClassifier\n",
        "from sklearn.metrics import accuracy_score\n",
        "with mlflow.start_run():\n",
        "    mlflow.set_tag(\"dev\", \"Team15\")\n",
        "    mlflow.set_tag(\"algo\", \"rf_tfidf\")\n",
        "    # log the data for each run using log_param, log_metric, log_model\n",
        "    mlflow.log_param(\"data-path\", \"train.csv\")\n",
        "    \n",
        "    rf_tfidf = RandomForestClassifier()\n",
        "    rf_tfidf.fit(X_train,y_train)\n",
        "    y_pred = rf_tfidf.predict(X_test)\n",
        "    acc=accuracy_score(y_test,y_pred)\n",
        "    mlflow.log_metric(\"accuracy\", acc)\n",
        "    mlflow.sklearn.log_model(rf_tfidf, artifact_path=\"mlruns\")\n",
        "    mlflow.log_artifact(\"mlruns/vectorizer.pkl\")"
      ]
    },
    {
      "cell_type": "code",
      "execution_count": 43,
      "metadata": {
        "id": "6MNYQ6K041nI"
      },
      "outputs": [],
      "source": [
        "# Experiment Tracking\n",
        "\n",
        "from xgboost import XGBClassifier\n",
        "from sklearn.metrics import accuracy_score\n",
        "with mlflow.start_run():\n",
        "    mlflow.set_tag(\"dev\", \"Team15\")\n",
        "    mlflow.set_tag(\"algo\", \"xgboost_tfidf\")\n",
        "    # log the data for each run using log_param, log_metric, log_model\n",
        "    mlflow.log_param(\"data-path\", \"train.csv\")\n",
        "    \n",
        "    xgb_tfidf = XGBClassifier()\n",
        "    xgb_tfidf.fit(X_train,y_train)\n",
        "    y_pred_xgb = xgb_tfidf.predict(X_test)\n",
        "    accuracy_score(y_test,y_pred_xgb)\n",
        "    mlflow.log_metric(\"accuracy\", acc)\n",
        "    mlflow.sklearn.log_model(xgb_tfidf, artifact_path=\"mlruns\")\n",
        "    mlflow.log_artifact(\"mlruns/vectorizer.pkl\")"
      ]
    },
    {
      "cell_type": "code",
      "execution_count": 44,
      "metadata": {
        "colab": {
          "background_save": true
        },
        "id": "kSuRsg-fFSfF"
      },
      "outputs": [],
      "source": [
        "# Experiment Tracking for TFIDF SVM\n",
        "\n",
        "with mlflow.start_run():\n",
        "    mlflow.set_tag(\"dev\", \"Team15\")\n",
        "    mlflow.set_tag(\"algo\", \"SVM_tfidf\")\n",
        "    # log the data for each run using log_param, log_metric, log_model\n",
        "    mlflow.log_param(\"data-path\", \"train.csv\")\n",
        "    C = 0.1\n",
        "    mlflow.log_param(\"C\", C)\n",
        "    sv_classifier_tfidf = SVC(C=C)\n",
        "    sv_classifier_tfidf.fit(X_train, y_train)\n",
        "    y_pred = sv_classifier_tfidf.predict(X_test)\n",
        "    acc = accuracy_score(y_test, y_pred)    \n",
        "    mlflow.log_metric(\"accuracy\", acc)\n",
        "    mlflow.sklearn.log_model(sv_classifier_tfidf, artifact_path=\"mlruns\")\n",
        "    mlflow.log_artifact(\"mlruns/vectorizer.pkl\")"
      ]
    },
    {
      "attachments": {},
      "cell_type": "markdown",
      "metadata": {
        "id": "JXNob9P9PqdR"
      },
      "source": [
        "# **Word2Vec approach**"
      ]
    },
    {
      "cell_type": "code",
      "execution_count": 45,
      "metadata": {
        "colab": {
          "background_save": true
        },
        "id": "J2Derk8dOlka"
      },
      "outputs": [],
      "source": [
        "import gensim\n",
        "# print(gensim.__version__)\n",
        "from gensim.models import Word2Vec"
      ]
    },
    {
      "cell_type": "code",
      "execution_count": 46,
      "metadata": {
        "colab": {
          "background_save": true
        },
        "id": "hBldUZMGO_Tq",
        "outputId": "3ee20efd-acdf-4274-e57e-a39ce3cbf108"
      },
      "outputs": [
        {
          "data": {
            "text/html": [
              "<div>\n",
              "<style scoped>\n",
              "    .dataframe tbody tr th:only-of-type {\n",
              "        vertical-align: middle;\n",
              "    }\n",
              "\n",
              "    .dataframe tbody tr th {\n",
              "        vertical-align: top;\n",
              "    }\n",
              "\n",
              "    .dataframe thead th {\n",
              "        text-align: right;\n",
              "    }\n",
              "</style>\n",
              "<table border=\"1\" class=\"dataframe\">\n",
              "  <thead>\n",
              "    <tr style=\"text-align: right;\">\n",
              "      <th></th>\n",
              "      <th>questions</th>\n",
              "    </tr>\n",
              "  </thead>\n",
              "  <tbody>\n",
              "    <tr>\n",
              "      <th>0</th>\n",
              "      <td>[how, do, i, play, pokémon, go, in, korea]</td>\n",
              "    </tr>\n",
              "    <tr>\n",
              "      <th>1</th>\n",
              "      <td>[what, are, some, of, the, best, side, dishes,...</td>\n",
              "    </tr>\n",
              "    <tr>\n",
              "      <th>2</th>\n",
              "      <td>[which, is, more, advisable, and, better, mate...</td>\n",
              "    </tr>\n",
              "  </tbody>\n",
              "</table>\n",
              "</div>"
            ],
            "text/plain": [
              "                                           questions\n",
              "0         [how, do, i, play, pokémon, go, in, korea]\n",
              "1  [what, are, some, of, the, best, side, dishes,...\n",
              "2  [which, is, more, advisable, and, better, mate..."
            ]
          },
          "execution_count": 46,
          "metadata": {},
          "output_type": "execute_result"
        }
      ],
      "source": [
        "questions = list(ques_df['Clean_q1_lem']) + list(ques_df['Clean_q2_lem'])\n",
        "isduplicate=list(final_df['is_duplicate'])+list(final_df['is_duplicate'])\n",
        "\n",
        "questions=pd.DataFrame(questions)\n",
        "isdup=pd.DataFrame(isduplicate)\n",
        "questions.columns=['questions']\n",
        "# questions['questions']\n",
        "questions['questions'] = questions['questions'].apply(lambda sent : sent.split())\n",
        "questions.head(3)"
      ]
    },
    {
      "cell_type": "code",
      "execution_count": 47,
      "metadata": {
        "colab": {
          "background_save": true
        },
        "id": "BCF9IBGkPKF3",
        "outputId": "0dd237dc-2d56-41fa-85d1-be15e4423000"
      },
      "outputs": [
        {
          "data": {
            "text/plain": [
              "<gensim.models.word2vec.Word2Vec at 0x1662bdc7340>"
            ]
          },
          "execution_count": 47,
          "metadata": {},
          "output_type": "execute_result"
        }
      ],
      "source": [
        "model_w2v = Word2Vec(list(questions['questions']), vector_size=100, min_count=1)\n",
        "model_w2v"
      ]
    },
    {
      "cell_type": "code",
      "execution_count": 48,
      "metadata": {
        "colab": {
          "background_save": true
        },
        "id": "Y1_zCUBwFSfF"
      },
      "outputs": [],
      "source": [
        "# fn to create word vector from document\n",
        "def document_vector(doc, keyed_vectors):\n",
        "    \"\"\"Remove out-of-vocabulary words. Create document vectors by averaging word vectors.\"\"\"\n",
        "    vocab_tokens = [word for word in doc if word in keyed_vectors.index_to_key]\n",
        "    return np.mean(keyed_vectors.__getitem__(vocab_tokens), axis=0)"
      ]
    },
    {
      "cell_type": "code",
      "execution_count": 49,
      "metadata": {
        "colab": {
          "background_save": true
        },
        "id": "p6bJfOQ3Pd8U",
        "outputId": "8c858ba1-e4cb-4611-8fd2-c5dc7dd402f9"
      },
      "outputs": [
        {
          "data": {
            "text/plain": [
              "0    [-0.11916832, 0.8949467, -0.016978435, 0.06893...\n",
              "1    [-0.12221461, 0.43099535, 0.090797424, 0.37160...\n",
              "2    [-0.086756766, 0.5648613, 0.011278699, 0.21041...\n",
              "Name: doc_vector, dtype: object"
            ]
          },
          "execution_count": 49,
          "metadata": {},
          "output_type": "execute_result"
        }
      ],
      "source": [
        "questions['doc_vector'] = questions.questions.apply(lambda x : document_vector(x, model_w2v.wv))\n",
        "# questions['doc_vector']\n",
        "X_train_w2v = list(questions['doc_vector'])\n",
        "\n",
        "#questionsw['is_duplicate']=pd.cocafinal_df['is_duplicate']\n",
        "questions.insert(1, \"is_duplicate\", isdup , True)\n",
        "questions['doc_vector'].head(3)"
      ]
    },
    {
      "cell_type": "code",
      "execution_count": 50,
      "metadata": {
        "colab": {
          "background_save": true
        },
        "id": "yEE8JaYxFSfG"
      },
      "outputs": [],
      "source": [
        "from sklearn.model_selection import train_test_split\n",
        "from sklearn.metrics import accuracy_score, classification_report\n",
        "\n",
        "X_train,X_test,y_train,y_test = train_test_split(questions['doc_vector'],isdup,test_size=0.2,random_state=1)\n",
        "\n",
        "X_train=pd.DataFrame(X_train)\n",
        "X_test=pd.DataFrame(X_test)\n",
        "\n",
        "X_train_w2v = list(X_train['doc_vector'])\n",
        "X_test_w2v = list(X_test['doc_vector'])"
      ]
    },
    {
      "cell_type": "code",
      "execution_count": 51,
      "metadata": {
        "colab": {
          "background_save": true
        },
        "id": "YbM0Nin0Tj65"
      },
      "outputs": [],
      "source": [
        "pickle.dump(Word2Vec,open('mlruns/Word2Vec.pkl','wb'))"
      ]
    },
    {
      "attachments": {},
      "cell_type": "markdown",
      "metadata": {
        "id": "ewqqfLdHTwh_"
      },
      "source": [
        "**Logistic Regression**"
      ]
    },
    {
      "cell_type": "code",
      "execution_count": 52,
      "metadata": {
        "colab": {
          "background_save": true
        },
        "id": "enVBkQOEFSfG",
        "outputId": "cf599e92-284c-486b-8c08-399be284648b"
      },
      "outputs": [
        {
          "name": "stdout",
          "output_type": "stream",
          "text": [
            "              precision    recall  f1-score   support\n",
            "\n",
            "           0       0.66      0.95      0.78      1026\n",
            "           1       0.60      0.13      0.21       574\n",
            "\n",
            "    accuracy                           0.66      1600\n",
            "   macro avg       0.63      0.54      0.50      1600\n",
            "weighted avg       0.64      0.66      0.58      1600\n",
            "\n"
          ]
        }
      ],
      "source": [
        "from sklearn.linear_model import LogisticRegression\n",
        "\n",
        "classifier_w2v = LogisticRegression()\n",
        "classifier_w2v.fit(X_train_w2v, y_train)\n",
        "y_pred_log = classifier_w2v.predict(X_test_w2v)\n",
        "print(classification_report(y_test, y_pred_log))"
      ]
    },
    {
      "attachments": {},
      "cell_type": "markdown",
      "metadata": {
        "id": "MQ3nVKPxUTgc"
      },
      "source": [
        "**Random Forest**"
      ]
    },
    {
      "cell_type": "code",
      "execution_count": 53,
      "metadata": {
        "colab": {
          "background_save": true
        },
        "id": "nM30hPqsUTgn",
        "outputId": "e25bfc87-4e70-450e-a366-b81750905dbf"
      },
      "outputs": [
        {
          "name": "stdout",
          "output_type": "stream",
          "text": [
            "              precision    recall  f1-score   support\n",
            "\n",
            "           0       0.71      0.87      0.78      1026\n",
            "           1       0.61      0.36      0.45       574\n",
            "\n",
            "    accuracy                           0.69      1600\n",
            "   macro avg       0.66      0.62      0.62      1600\n",
            "weighted avg       0.67      0.69      0.66      1600\n",
            "\n"
          ]
        }
      ],
      "source": [
        "# Random forest for w2v\n",
        "rf_w2v = RandomForestClassifier()\n",
        "rf_w2v.fit(X_train_w2v, y_train)\n",
        "y_pred_rf = rf_w2v.predict(X_test_w2v)\n",
        "print(classification_report(y_test, y_pred_rf))"
      ]
    },
    {
      "attachments": {},
      "cell_type": "markdown",
      "metadata": {
        "id": "eQxrUCr-UTgo"
      },
      "source": [
        "**Support vector Machine**"
      ]
    },
    {
      "cell_type": "code",
      "execution_count": 54,
      "metadata": {
        "colab": {
          "background_save": true
        },
        "id": "DdgkioZKUTgo",
        "outputId": "ad58b3d9-a27d-4820-83b9-eefa41a66d66"
      },
      "outputs": [
        {
          "name": "stdout",
          "output_type": "stream",
          "text": [
            "              precision    recall  f1-score   support\n",
            "\n",
            "           0       0.64      1.00      0.78      1026\n",
            "           1       0.00      0.00      0.00       574\n",
            "\n",
            "    accuracy                           0.64      1600\n",
            "   macro avg       0.32      0.50      0.39      1600\n",
            "weighted avg       0.41      0.64      0.50      1600\n",
            "\n"
          ]
        }
      ],
      "source": [
        "# SVC for w2v\n",
        "sv_classifier_w2v = SVC(C=C)\n",
        "sv_classifier_w2v.fit(X_train_w2v, y_train)\n",
        "y_pred_svc = sv_classifier_w2v.predict(X_test_w2v)\n",
        "print(classification_report(y_test, y_pred_svc))"
      ]
    },
    {
      "attachments": {},
      "cell_type": "markdown",
      "metadata": {
        "id": "AITQ9tJAUTgo"
      },
      "source": [
        "**XGBoost**"
      ]
    },
    {
      "cell_type": "code",
      "execution_count": 55,
      "metadata": {
        "colab": {
          "background_save": true
        },
        "id": "qQ8OwgZMUTgo",
        "outputId": "4b382a02-fe73-4239-a807-b502f1908c78"
      },
      "outputs": [
        {
          "name": "stdout",
          "output_type": "stream",
          "text": [
            "              precision    recall  f1-score   support\n",
            "\n",
            "           0       0.71      0.83      0.77      1026\n",
            "           1       0.57      0.41      0.48       574\n",
            "\n",
            "    accuracy                           0.68      1600\n",
            "   macro avg       0.64      0.62      0.62      1600\n",
            "weighted avg       0.66      0.68      0.66      1600\n",
            "\n"
          ]
        }
      ],
      "source": [
        "# XGB for w2v\n",
        "xgb_w2v = XGBClassifier()\n",
        "xgb_w2v.fit(X_train_w2v,y_train)\n",
        "y_pred_xgb = xgb_w2v.predict(X_test_w2v)\n",
        "print(classification_report(y_test, y_pred_xgb))"
      ]
    },
    {
      "cell_type": "code",
      "execution_count": 56,
      "metadata": {
        "colab": {
          "background_save": true
        },
        "id": "wlLl6-7QqNLg",
        "outputId": "369c8450-680a-4664-da3a-a27a3f83bb86"
      },
      "outputs": [
        {
          "name": "stdout",
          "output_type": "stream",
          "text": [
            "For w2v approach:\n"
          ]
        },
        {
          "data": {
            "text/html": [
              "<div>\n",
              "<style scoped>\n",
              "    .dataframe tbody tr th:only-of-type {\n",
              "        vertical-align: middle;\n",
              "    }\n",
              "\n",
              "    .dataframe tbody tr th {\n",
              "        vertical-align: top;\n",
              "    }\n",
              "\n",
              "    .dataframe thead th {\n",
              "        text-align: right;\n",
              "    }\n",
              "</style>\n",
              "<table border=\"1\" class=\"dataframe\">\n",
              "  <thead>\n",
              "    <tr style=\"text-align: right;\">\n",
              "      <th></th>\n",
              "      <th>Model</th>\n",
              "      <th>Accuracy</th>\n",
              "    </tr>\n",
              "  </thead>\n",
              "  <tbody>\n",
              "    <tr>\n",
              "      <th>0</th>\n",
              "      <td>Logistic Regression</td>\n",
              "      <td>0.656250</td>\n",
              "    </tr>\n",
              "    <tr>\n",
              "      <th>1</th>\n",
              "      <td>Random Forest</td>\n",
              "      <td>0.686875</td>\n",
              "    </tr>\n",
              "    <tr>\n",
              "      <th>2</th>\n",
              "      <td>XGBoost</td>\n",
              "      <td>0.676875</td>\n",
              "    </tr>\n",
              "    <tr>\n",
              "      <th>3</th>\n",
              "      <td>Support Vector Machine</td>\n",
              "      <td>0.641250</td>\n",
              "    </tr>\n",
              "  </tbody>\n",
              "</table>\n",
              "</div>"
            ],
            "text/plain": [
              "                    Model  Accuracy\n",
              "0     Logistic Regression  0.656250\n",
              "1           Random Forest  0.686875\n",
              "2                 XGBoost  0.676875\n",
              "3  Support Vector Machine  0.641250"
            ]
          },
          "execution_count": 56,
          "metadata": {},
          "output_type": "execute_result"
        }
      ],
      "source": [
        "# initialize list elements\n",
        "data = [['Logistic Regression', accuracy_score(y_test,y_pred_log)],['Random Forest',accuracy_score(y_test,y_pred_rf)] ,[ \"XGBoost\", accuracy_score(y_test,y_pred_xgb)] ,[ \"Support Vector Machine\",accuracy_score(y_test,y_pred_svc)]]\n",
        "  \n",
        "# Create the pandas DataFrame with column name is provided explicitly\n",
        "df = pd.DataFrame(data, columns=['Model','Accuracy'])\n",
        "print(\"For w2v approach:\")\n",
        "df"
      ]
    },
    {
      "cell_type": "code",
      "execution_count": 57,
      "metadata": {
        "colab": {
          "background_save": true
        },
        "id": "g1tAa7lGFSfH"
      },
      "outputs": [],
      "source": [
        "# Experiment Tracking - Logistic Regression\n",
        "\n",
        "with mlflow.start_run():\n",
        "    mlflow.set_tag(\"dev\", \"Team15\")\n",
        "    mlflow.set_tag(\"algo\", \"Logit_w2v\")\n",
        "    # log the data for each run using log_param, log_metric, log_model\n",
        "    mlflow.log_param(\"data-path\", \"train.csv\")\n",
        "    C = 0.1\n",
        "    mlflow.log_param(\"C\", C)\n",
        "    classifier_w2v = LogisticRegression()\n",
        "    classifier_w2v.fit(X_train_w2v, y_train)\n",
        "   \n",
        "    y_pred_log = classifier_w2v.predict(X_test_w2v)\n",
        "   \n",
        "    acc = metrics.accuracy_score(y_test, y_pred_log)    \n",
        "    mlflow.log_metric(\"accuracy\", acc)\n",
        "    mlflow.sklearn.log_model(classifier_w2v, artifact_path=\"mlruns\")\n",
        "    mlflow.log_artifact(\"mlruns/Word2Vec.pkl\")"
      ]
    },
    {
      "cell_type": "code",
      "execution_count": 58,
      "metadata": {
        "colab": {
          "background_save": true
        },
        "id": "CPMGtlicFSfH"
      },
      "outputs": [],
      "source": [
        "# Experiment tracking -  Random Forest \n",
        "\n",
        "from sklearn.ensemble import RandomForestClassifier\n",
        "from sklearn.metrics import accuracy_score\n",
        "with mlflow.start_run():\n",
        "    mlflow.set_tag(\"dev\", \"Team15\")\n",
        "    mlflow.set_tag(\"algo\", \"rf_w2v\")\n",
        "    # log the data for each run using log_param, log_metric, log_model\n",
        "    mlflow.log_param(\"data-path\", \"train.csv\")\n",
        "    \n",
        "    rf_w2v = RandomForestClassifier()\n",
        "    rf_w2v.fit(X_train_w2v,y_train)\n",
        "    y_pred_rf = rf_w2v.predict(X_test_w2v)\n",
        "    accuracy_score(y_test,y_pred_rf)\n",
        "    mlflow.log_metric(\"accuracy\", acc)\n",
        "    mlflow.sklearn.log_model(rf_w2v, artifact_path=\"mlruns\")\n",
        "    mlflow.log_artifact(\"mlruns/Word2Vec.pkl\")"
      ]
    },
    {
      "cell_type": "code",
      "execution_count": 59,
      "metadata": {
        "colab": {
          "background_save": true
        },
        "id": "ZbqBkQMOYOd3"
      },
      "outputs": [],
      "source": [
        "# Experiment Tracking - XGBoost\n",
        "\n",
        "from xgboost import XGBClassifier\n",
        "from sklearn.metrics import accuracy_score\n",
        "with mlflow.start_run():\n",
        "    mlflow.set_tag(\"dev\", \"Team15\")\n",
        "    mlflow.set_tag(\"algo\", \"xgboost_w2v\")\n",
        "    # log the data for each run using log_param, log_metric, log_model\n",
        "    mlflow.log_param(\"data-path\", \"train.csv\")\n",
        "    \n",
        "    xgb_w2v = XGBClassifier()\n",
        "    xgb_w2v.fit(X_train_w2v,y_train)\n",
        "    y_pred_xgb = xgb_w2v.predict(X_test_w2v)\n",
        "    accuracy_score(y_test,y_pred_xgb)\n",
        "    mlflow.log_metric(\"accuracy\", acc)\n",
        "    mlflow.sklearn.log_model(xgb_w2v, artifact_path=\"mlruns\")\n",
        "    mlflow.log_artifact(\"mlruns/Word2Vec.pkl\")"
      ]
    },
    {
      "cell_type": "code",
      "execution_count": 60,
      "metadata": {
        "colab": {
          "background_save": true
        },
        "id": "wUtzudZRFSfH"
      },
      "outputs": [],
      "source": [
        "# Experiment Tracking - SVM\n",
        "\n",
        "with mlflow.start_run():\n",
        "    mlflow.set_tag(\"dev\", \"Team15\")\n",
        "    mlflow.set_tag(\"algo\", \"SVM_w2v\")\n",
        "    # log the data for each run using log_param, log_metric, log_model\n",
        "    mlflow.log_param(\"data-path\", \"train.csv\")\n",
        "    C = 0.1\n",
        "    mlflow.log_param(\"C\", C)\n",
        "    sv_classifier_w2v = SVC(C=C)\n",
        "    sv_classifier_w2v.fit(X_train_w2v, y_train)\n",
        "    y_pred = sv_classifier_w2v.predict(X_test_w2v)\n",
        "    acc = metrics.accuracy_score(y_test, y_pred)    \n",
        "    mlflow.log_metric(\"accuracy\", acc)\n",
        "    mlflow.sklearn.log_model(sv_classifier_w2v, artifact_path=\"mlruns\")\n",
        "    mlflow.log_artifact(\"mlruns/Word2Vec.pkl\")"
      ]
    },
    {
      "attachments": {},
      "cell_type": "markdown",
      "metadata": {
        "id": "TXpGkWj8P4Qp"
      },
      "source": [
        "# **GLOVE Approach**"
      ]
    },
    {
      "cell_type": "code",
      "execution_count": 61,
      "metadata": {
        "colab": {
          "background_save": true
        },
        "id": "oC6oVn7QcuYQ",
        "outputId": "6f3f7e8c-17a4-45da-984a-4f70931bd095"
      },
      "outputs": [
        {
          "name": "stdout",
          "output_type": "stream",
          "text": [
            "4.3.1\n",
            "['fasttext-wiki-news-subwords-300', 'conceptnet-numberbatch-17-06-300', 'word2vec-ruscorpora-300', 'word2vec-google-news-300', 'glove-wiki-gigaword-50', 'glove-wiki-gigaword-100', 'glove-wiki-gigaword-200', 'glove-wiki-gigaword-300', 'glove-twitter-25', 'glove-twitter-50', 'glove-twitter-100', 'glove-twitter-200', '__testing_word2vec-matrix-synopsis']\n"
          ]
        }
      ],
      "source": [
        "import gensim\n",
        "import gensim.downloader as api\n",
        "\n",
        "print(gensim.__version__)\n",
        "print(list(gensim.downloader.info()['models'].keys()))\n",
        "wv = api.load('glove-twitter-50')"
      ]
    },
    {
      "cell_type": "code",
      "execution_count": 62,
      "metadata": {
        "colab": {
          "background_save": true
        },
        "id": "6kiXaDDndJJ3",
        "outputId": "c16004e9-9016-4251-f827-5477c4ff5d17"
      },
      "outputs": [
        {
          "data": {
            "text/html": [
              "<div>\n",
              "<style scoped>\n",
              "    .dataframe tbody tr th:only-of-type {\n",
              "        vertical-align: middle;\n",
              "    }\n",
              "\n",
              "    .dataframe tbody tr th {\n",
              "        vertical-align: top;\n",
              "    }\n",
              "\n",
              "    .dataframe thead th {\n",
              "        text-align: right;\n",
              "    }\n",
              "</style>\n",
              "<table border=\"1\" class=\"dataframe\">\n",
              "  <thead>\n",
              "    <tr style=\"text-align: right;\">\n",
              "      <th></th>\n",
              "      <th>questions</th>\n",
              "    </tr>\n",
              "  </thead>\n",
              "  <tbody>\n",
              "    <tr>\n",
              "      <th>0</th>\n",
              "      <td>[how, do, i, play, pokémon, go, in, korea]</td>\n",
              "    </tr>\n",
              "    <tr>\n",
              "      <th>1</th>\n",
              "      <td>[what, are, some, of, the, best, side, dishes,...</td>\n",
              "    </tr>\n",
              "    <tr>\n",
              "      <th>2</th>\n",
              "      <td>[which, is, more, advisable, and, better, mate...</td>\n",
              "    </tr>\n",
              "  </tbody>\n",
              "</table>\n",
              "</div>"
            ],
            "text/plain": [
              "                                           questions\n",
              "0         [how, do, i, play, pokémon, go, in, korea]\n",
              "1  [what, are, some, of, the, best, side, dishes,...\n",
              "2  [which, is, more, advisable, and, better, mate..."
            ]
          },
          "execution_count": 62,
          "metadata": {},
          "output_type": "execute_result"
        }
      ],
      "source": [
        "questions = list(ques_df['Clean_q1_lem']) + list(ques_df['Clean_q2_lem'])\n",
        "isduplicate=list(final_df['is_duplicate'])+list(final_df['is_duplicate'])\n",
        "\n",
        "questions=pd.DataFrame(questions)\n",
        "isdup=pd.DataFrame(isduplicate)\n",
        "\n",
        "questions.columns=['questions']\n",
        "#questions['questions']\n",
        "questions['questions'] = questions['questions'].apply(lambda sent : sent.split())\n",
        "questions.head(3)"
      ]
    },
    {
      "cell_type": "code",
      "execution_count": 63,
      "metadata": {
        "colab": {
          "background_save": true
        },
        "id": "pTgzMNtWFSfI"
      },
      "outputs": [],
      "source": [
        "questions = list(ques_df['Clean_q1_lem']) + list(ques_df['Clean_q1_lem'])\n",
        "questions=pd.DataFrame(questions)\n",
        "questions.columns=['questions']\n",
        "questions['questions'] = questions['questions'].apply(lambda sent : sent.split())\n",
        "questions['doc_vector_pretrained_glove'] = questions.questions.apply(lambda x : document_vector(x, wv))\n",
        "\n",
        "#X_train_glove = list(questions['doc_vector_pretrained_glove'])"
      ]
    },
    {
      "cell_type": "code",
      "execution_count": 64,
      "metadata": {
        "colab": {
          "background_save": true
        },
        "id": "EHzxxoVVFSfI"
      },
      "outputs": [],
      "source": [
        "questions['is_duplicate']=isdup"
      ]
    },
    {
      "cell_type": "code",
      "execution_count": 65,
      "metadata": {
        "colab": {
          "background_save": true
        },
        "id": "zB_6JCIrFSfJ",
        "outputId": "e3871c67-4e2e-468c-b244-4294d091d960"
      },
      "outputs": [
        {
          "data": {
            "text/plain": [
              "questions                      0\n",
              "doc_vector_pretrained_glove    0\n",
              "is_duplicate                   0\n",
              "dtype: int64"
            ]
          },
          "execution_count": 65,
          "metadata": {},
          "output_type": "execute_result"
        }
      ],
      "source": [
        "questions.isnull().sum()\n"
      ]
    },
    {
      "cell_type": "code",
      "execution_count": 66,
      "metadata": {
        "colab": {
          "background_save": true
        },
        "id": "lBpGPPOTFSfJ"
      },
      "outputs": [],
      "source": [
        "from sklearn.model_selection import train_test_split\n",
        "X_train,X_test,y_train,y_test = train_test_split(questions['doc_vector_pretrained_glove'],isdup,test_size=0.2,random_state=1)\n",
        "X_train_glove=list(X_train)\n",
        "X_test_glove=list(X_test)"
      ]
    },
    {
      "cell_type": "code",
      "execution_count": 67,
      "metadata": {
        "colab": {
          "background_save": true
        },
        "id": "RTTzL7uQfkId"
      },
      "outputs": [],
      "source": [
        "pickle.dump(vectorizer,open('mlruns/wv.pkl','wb'))"
      ]
    },
    {
      "attachments": {},
      "cell_type": "markdown",
      "metadata": {
        "id": "Nn7TKgsyeIVv"
      },
      "source": [
        "**Logistic Regression**"
      ]
    },
    {
      "cell_type": "code",
      "execution_count": 68,
      "metadata": {
        "colab": {
          "background_save": true
        },
        "id": "z1nCgTYtFSfQ",
        "outputId": "ea306b24-49b4-40e0-b516-5761d6052a33"
      },
      "outputs": [
        {
          "name": "stdout",
          "output_type": "stream",
          "text": [
            "              precision    recall  f1-score   support\n",
            "\n",
            "           0       0.68      0.90      0.78      1026\n",
            "           1       0.58      0.25      0.35       574\n",
            "\n",
            "    accuracy                           0.67      1600\n",
            "   macro avg       0.63      0.58      0.56      1600\n",
            "weighted avg       0.65      0.67      0.62      1600\n",
            "\n"
          ]
        }
      ],
      "source": [
        "from sklearn.linear_model import LogisticRegression\n",
        "\n",
        "classifier_glove = LogisticRegression()\n",
        "classifier_glove.fit(X_train_glove, y_train)\n",
        "y_pred_log = classifier_glove.predict(X_test_glove)\n",
        "print(classification_report(y_test, y_pred_log))\n"
      ]
    },
    {
      "cell_type": "code",
      "execution_count": 69,
      "metadata": {
        "colab": {
          "background_save": true
        },
        "id": "o59VvdbnFSfR"
      },
      "outputs": [],
      "source": [
        "# Experiment Tracking - Log Reg\n",
        "\n",
        "with mlflow.start_run():\n",
        "    mlflow.set_tag(\"dev\", \"Team15\")\n",
        "    mlflow.set_tag(\"algo\", \"Logit_glove\")\n",
        "    # log the data for each run using log_param, log_metric, log_model\n",
        "    mlflow.log_param(\"data-path\", \"train.csv\")\n",
        "    C = 0.1\n",
        "    mlflow.log_param(\"C\", C)\n",
        "    classifier_glove = LogisticRegression()\n",
        "    classifier_glove.fit(X_train_glove, y_train)\n",
        "   \n",
        "    y_pred_log = classifier_glove.predict(X_test_glove)\n",
        "   \n",
        "    acc = metrics.accuracy_score(y_test, y_pred_log)    \n",
        "    mlflow.log_metric(\"accuracy\", acc)\n",
        "    mlflow.sklearn.log_model(classifier_glove, artifact_path=\"mlruns\")\n",
        "    mlflow.log_artifact(\"mlruns/wv.pkl\")\n"
      ]
    },
    {
      "attachments": {},
      "cell_type": "markdown",
      "metadata": {
        "id": "D0HGOlJ6gFxW"
      },
      "source": [
        "**Random Forest**"
      ]
    },
    {
      "cell_type": "code",
      "execution_count": 70,
      "metadata": {
        "colab": {
          "background_save": true
        },
        "id": "p5Tim1lZgFxi",
        "outputId": "f97c61bb-e63a-49ac-f103-a6dd8f8a5eb8"
      },
      "outputs": [
        {
          "name": "stdout",
          "output_type": "stream",
          "text": [
            "              precision    recall  f1-score   support\n",
            "\n",
            "           0       0.93      0.98      0.96      1026\n",
            "           1       0.97      0.86      0.91       574\n",
            "\n",
            "    accuracy                           0.94      1600\n",
            "   macro avg       0.95      0.92      0.93      1600\n",
            "weighted avg       0.94      0.94      0.94      1600\n",
            "\n"
          ]
        }
      ],
      "source": [
        "# Random forest for glove\n",
        "rf_glove = RandomForestClassifier()\n",
        "rf_glove.fit(X_train_glove, y_train)\n",
        "y_pred_rf = rf_glove.predict(X_test_glove)\n",
        "print(classification_report(y_test, y_pred_rf))"
      ]
    },
    {
      "cell_type": "code",
      "execution_count": 71,
      "metadata": {
        "colab": {
          "background_save": true
        },
        "id": "cBIgxU7KFSfS"
      },
      "outputs": [],
      "source": [
        "#Experiment tracking - Random Forest\n",
        "\n",
        "from sklearn.ensemble import RandomForestClassifier\n",
        "from sklearn.metrics import accuracy_score\n",
        "with mlflow.start_run():\n",
        "    mlflow.set_tag(\"dev\", \"Team15\")\n",
        "    mlflow.set_tag(\"algo\", \"rf_glove\")\n",
        "    # log the data for each run using log_param, log_metric, log_model\n",
        "    mlflow.log_param(\"data-path\", \"train.csv\")\n",
        "    \n",
        "    rf_glove = RandomForestClassifier()\n",
        "    rf_glove.fit(X_train_glove,y_train)\n",
        "    y_pred_rf = rf_glove.predict(X_test_glove)\n",
        "    accuracy_score(y_test,y_pred_rf)\n",
        "    mlflow.log_metric(\"accuracy\", acc)\n",
        "    mlflow.sklearn.log_model(rf_glove, artifact_path=\"mlruns\")\n",
        "    mlflow.log_artifact(\"mlruns/wv.pkl\")\n"
      ]
    },
    {
      "attachments": {},
      "cell_type": "markdown",
      "metadata": {
        "id": "Gx_ZL1AJgFxi"
      },
      "source": [
        "**Support vector Machine**"
      ]
    },
    {
      "cell_type": "code",
      "execution_count": 72,
      "metadata": {
        "colab": {
          "background_save": true
        },
        "id": "xvdw8ZZ6gFxi",
        "outputId": "7656289e-ac8b-4c55-d410-3d8639107928"
      },
      "outputs": [
        {
          "name": "stdout",
          "output_type": "stream",
          "text": [
            "              precision    recall  f1-score   support\n",
            "\n",
            "           0       0.64      1.00      0.78      1026\n",
            "           1       0.00      0.00      0.00       574\n",
            "\n",
            "    accuracy                           0.64      1600\n",
            "   macro avg       0.32      0.50      0.39      1600\n",
            "weighted avg       0.41      0.64      0.50      1600\n",
            "\n"
          ]
        }
      ],
      "source": [
        "# SVC for glove\n",
        "sv_classifier_glove = SVC(C=C)\n",
        "sv_classifier_glove.fit(X_train_glove, y_train)\n",
        "y_pred_svc = sv_classifier_glove.predict(X_test_glove)\n",
        "print(classification_report(y_test, y_pred_svc))"
      ]
    },
    {
      "cell_type": "code",
      "execution_count": 73,
      "metadata": {
        "colab": {
          "background_save": true
        },
        "id": "pBNnKaFwhdiQ"
      },
      "outputs": [],
      "source": [
        "# Experiment Tracking - SVM\n",
        "\n",
        "with mlflow.start_run():\n",
        "    mlflow.set_tag(\"dev\", \"Team15\")\n",
        "    mlflow.set_tag(\"algo\", \"SVM_glove\")\n",
        "    # log the data for each run using log_param, log_metric, log_model\n",
        "    mlflow.log_param(\"data-path\", \"train.csv\")\n",
        "    C = 0.1\n",
        "    mlflow.log_param(\"C\", C)\n",
        "    sv_classifier_glove = SVC(C=C)\n",
        "    sv_classifier_glove.fit(X_train_glove, y_train)\n",
        "    y_pred_svc = sv_classifier_glove.predict(X_test_glove)\n",
        "    acc = metrics.accuracy_score(y_test, y_pred_svc)    \n",
        "    mlflow.log_metric(\"accuracy\", acc)\n",
        "    mlflow.sklearn.log_model(sv_classifier_glove, artifact_path=\"mlruns\")\n",
        "    mlflow.log_artifact(\"mlruns/wv.pkl\")"
      ]
    },
    {
      "attachments": {},
      "cell_type": "markdown",
      "metadata": {
        "id": "bfkdeFB7gFxj"
      },
      "source": [
        "**XGBoost**"
      ]
    },
    {
      "cell_type": "code",
      "execution_count": 74,
      "metadata": {
        "colab": {
          "background_save": true
        },
        "id": "ltr7xxf6gFxj",
        "outputId": "caafd3d1-a25e-4801-8160-873c8cc2567a"
      },
      "outputs": [
        {
          "name": "stdout",
          "output_type": "stream",
          "text": [
            "              precision    recall  f1-score   support\n",
            "\n",
            "           0       0.95      0.96      0.95      1026\n",
            "           1       0.93      0.91      0.92       574\n",
            "\n",
            "    accuracy                           0.94      1600\n",
            "   macro avg       0.94      0.93      0.94      1600\n",
            "weighted avg       0.94      0.94      0.94      1600\n",
            "\n"
          ]
        }
      ],
      "source": [
        "xgb_glove = XGBClassifier()\n",
        "xgb_glove.fit(X_train_glove,y_train)\n",
        "y_pred_xgb = xgb_glove.predict(X_test_glove)\n",
        "print(classification_report(y_test, y_pred_xgb))"
      ]
    },
    {
      "cell_type": "code",
      "execution_count": 75,
      "metadata": {
        "colab": {
          "background_save": true
        },
        "id": "NmxVWFVuhdh-"
      },
      "outputs": [],
      "source": [
        "# Experiment Tracking - XGBoost\n",
        "\n",
        "from xgboost import XGBClassifier\n",
        "from sklearn.metrics import accuracy_score\n",
        "with mlflow.start_run():\n",
        "    mlflow.set_tag(\"dev\", \"Team15\")\n",
        "    mlflow.set_tag(\"algo\", \"xgb_glove\")\n",
        "    # log the data for each run using log_param, log_metric, log_model\n",
        "    mlflow.log_param(\"data-path\", \"train.csv\")\n",
        "    \n",
        "    xgb_glove = XGBClassifier()\n",
        "    xgb_glove.fit(X_train_glove,y_train)\n",
        "    y_pred_xgb = xgb_glove.predict(X_test_glove)\n",
        "    accuracy_score(y_test,y_pred_xgb)\n",
        "    mlflow.log_metric(\"accuracy\", acc)\n",
        "    mlflow.sklearn.log_model(xgb_glove, artifact_path=\"mlruns\")\n",
        "    mlflow.log_artifact(\"mlruns/wv.pkl\")"
      ]
    },
    {
      "cell_type": "code",
      "execution_count": 76,
      "metadata": {
        "colab": {
          "background_save": true
        },
        "id": "IVdIPBU-p526",
        "outputId": "61fdd857-485e-4143-a2fb-01990c59a905"
      },
      "outputs": [
        {
          "name": "stdout",
          "output_type": "stream",
          "text": [
            "For Glove approach:\n"
          ]
        },
        {
          "data": {
            "text/html": [
              "<div>\n",
              "<style scoped>\n",
              "    .dataframe tbody tr th:only-of-type {\n",
              "        vertical-align: middle;\n",
              "    }\n",
              "\n",
              "    .dataframe tbody tr th {\n",
              "        vertical-align: top;\n",
              "    }\n",
              "\n",
              "    .dataframe thead th {\n",
              "        text-align: right;\n",
              "    }\n",
              "</style>\n",
              "<table border=\"1\" class=\"dataframe\">\n",
              "  <thead>\n",
              "    <tr style=\"text-align: right;\">\n",
              "      <th></th>\n",
              "      <th>Model</th>\n",
              "      <th>Accuracy</th>\n",
              "    </tr>\n",
              "  </thead>\n",
              "  <tbody>\n",
              "    <tr>\n",
              "      <th>0</th>\n",
              "      <td>Logistic Regression</td>\n",
              "      <td>0.667500</td>\n",
              "    </tr>\n",
              "    <tr>\n",
              "      <th>1</th>\n",
              "      <td>Random Forest</td>\n",
              "      <td>0.944375</td>\n",
              "    </tr>\n",
              "    <tr>\n",
              "      <th>2</th>\n",
              "      <td>XGBoost</td>\n",
              "      <td>0.941875</td>\n",
              "    </tr>\n",
              "    <tr>\n",
              "      <th>3</th>\n",
              "      <td>Support Vector Machine</td>\n",
              "      <td>0.641250</td>\n",
              "    </tr>\n",
              "  </tbody>\n",
              "</table>\n",
              "</div>"
            ],
            "text/plain": [
              "                    Model  Accuracy\n",
              "0     Logistic Regression  0.667500\n",
              "1           Random Forest  0.944375\n",
              "2                 XGBoost  0.941875\n",
              "3  Support Vector Machine  0.641250"
            ]
          },
          "execution_count": 76,
          "metadata": {},
          "output_type": "execute_result"
        }
      ],
      "source": [
        "# initialize list elements\n",
        "data = [['Logistic Regression', accuracy_score(y_test,y_pred_log)],['Random Forest',accuracy_score(y_test,y_pred_rf)] ,[ \"XGBoost\", accuracy_score(y_test,y_pred_xgb)] ,[ \"Support Vector Machine\",accuracy_score(y_test,y_pred_svc)]]\n",
        "  \n",
        "# Create the pandas DataFrame with column name is provided explicitly\n",
        "df = pd.DataFrame(data, columns=['Model','Accuracy'])\n",
        "print(\"For Glove approach:\")\n",
        "df"
      ]
    },
    {
      "attachments": {},
      "cell_type": "markdown",
      "metadata": {
        "id": "QhTK0F6dQGea"
      },
      "source": [
        "# **BERT Approach**"
      ]
    },
    {
      "cell_type": "code",
      "execution_count": 77,
      "metadata": {
        "colab": {
          "background_save": true
        },
        "id": "K_1rcBwFmtFN",
        "outputId": "1bbcf49d-8aa5-4be3-9827-f4ba0250645d"
      },
      "outputs": [
        {
          "name": "stdout",
          "output_type": "stream",
          "text": [
            "Requirement already satisfied: sentence-transformers in d:\\desktop\\eda\\eda\\envi\\lib\\site-packages (2.2.2)\n",
            "Requirement already satisfied: transformers<5.0.0,>=4.6.0 in d:\\desktop\\eda\\eda\\envi\\lib\\site-packages (from sentence-transformers) (4.29.2)\n",
            "Requirement already satisfied: tqdm in d:\\desktop\\eda\\eda\\envi\\lib\\site-packages (from sentence-transformers) (4.65.0)\n",
            "Requirement already satisfied: torch>=1.6.0 in d:\\desktop\\eda\\eda\\envi\\lib\\site-packages (from sentence-transformers) (2.0.1)\n",
            "Requirement already satisfied: torchvision in d:\\desktop\\eda\\eda\\envi\\lib\\site-packages (from sentence-transformers) (0.15.2)\n",
            "Requirement already satisfied: numpy in d:\\desktop\\eda\\eda\\envi\\lib\\site-packages (from sentence-transformers) (1.24.3)\n",
            "Requirement already satisfied: scikit-learn in d:\\desktop\\eda\\eda\\envi\\lib\\site-packages (from sentence-transformers) (1.2.2)\n",
            "Requirement already satisfied: scipy in d:\\desktop\\eda\\eda\\envi\\lib\\site-packages (from sentence-transformers) (1.10.1)\n",
            "Requirement already satisfied: nltk in d:\\desktop\\eda\\eda\\envi\\lib\\site-packages (from sentence-transformers) (3.8.1)\n",
            "Requirement already satisfied: sentencepiece in d:\\desktop\\eda\\eda\\envi\\lib\\site-packages (from sentence-transformers) (0.1.99)\n",
            "Requirement already satisfied: huggingface-hub>=0.4.0 in d:\\desktop\\eda\\eda\\envi\\lib\\site-packages (from sentence-transformers) (0.15.1)\n",
            "Requirement already satisfied: filelock in d:\\desktop\\eda\\eda\\envi\\lib\\site-packages (from huggingface-hub>=0.4.0->sentence-transformers) (3.12.0)\n",
            "Requirement already satisfied: fsspec in d:\\desktop\\eda\\eda\\envi\\lib\\site-packages (from huggingface-hub>=0.4.0->sentence-transformers) (2023.5.0)\n",
            "Requirement already satisfied: requests in d:\\desktop\\eda\\eda\\envi\\lib\\site-packages (from huggingface-hub>=0.4.0->sentence-transformers) (2.31.0)\n",
            "Requirement already satisfied: pyyaml>=5.1 in d:\\desktop\\eda\\eda\\envi\\lib\\site-packages (from huggingface-hub>=0.4.0->sentence-transformers) (6.0)\n",
            "Requirement already satisfied: typing-extensions>=3.7.4.3 in d:\\desktop\\eda\\eda\\envi\\lib\\site-packages (from huggingface-hub>=0.4.0->sentence-transformers) (4.6.3)\n",
            "Requirement already satisfied: packaging>=20.9 in d:\\desktop\\eda\\eda\\envi\\lib\\site-packages (from huggingface-hub>=0.4.0->sentence-transformers) (23.1)\n",
            "Requirement already satisfied: sympy in d:\\desktop\\eda\\eda\\envi\\lib\\site-packages (from torch>=1.6.0->sentence-transformers) (1.12)\n",
            "Requirement already satisfied: networkx in d:\\desktop\\eda\\eda\\envi\\lib\\site-packages (from torch>=1.6.0->sentence-transformers) (3.1)\n",
            "Requirement already satisfied: jinja2 in d:\\desktop\\eda\\eda\\envi\\lib\\site-packages (from torch>=1.6.0->sentence-transformers) (3.1.2)\n",
            "Requirement already satisfied: colorama in d:\\desktop\\eda\\eda\\envi\\lib\\site-packages (from tqdm->sentence-transformers) (0.4.6)\n",
            "Requirement already satisfied: regex!=2019.12.17 in d:\\desktop\\eda\\eda\\envi\\lib\\site-packages (from transformers<5.0.0,>=4.6.0->sentence-transformers) (2023.6.3)\n",
            "Requirement already satisfied: tokenizers!=0.11.3,<0.14,>=0.11.1 in d:\\desktop\\eda\\eda\\envi\\lib\\site-packages (from transformers<5.0.0,>=4.6.0->sentence-transformers) (0.13.3)\n",
            "Requirement already satisfied: click in d:\\desktop\\eda\\eda\\envi\\lib\\site-packages (from nltk->sentence-transformers) (8.1.3)\n",
            "Requirement already satisfied: joblib in d:\\desktop\\eda\\eda\\envi\\lib\\site-packages (from nltk->sentence-transformers) (1.2.0)\n",
            "Requirement already satisfied: threadpoolctl>=2.0.0 in d:\\desktop\\eda\\eda\\envi\\lib\\site-packages (from scikit-learn->sentence-transformers) (3.1.0)\n",
            "Requirement already satisfied: pillow!=8.3.*,>=5.3.0 in d:\\desktop\\eda\\eda\\envi\\lib\\site-packages (from torchvision->sentence-transformers) (9.5.0)\n",
            "Requirement already satisfied: MarkupSafe>=2.0 in d:\\desktop\\eda\\eda\\envi\\lib\\site-packages (from jinja2->torch>=1.6.0->sentence-transformers) (2.1.3)\n",
            "Requirement already satisfied: charset-normalizer<4,>=2 in d:\\desktop\\eda\\eda\\envi\\lib\\site-packages (from requests->huggingface-hub>=0.4.0->sentence-transformers) (3.1.0)\n",
            "Requirement already satisfied: idna<4,>=2.5 in d:\\desktop\\eda\\eda\\envi\\lib\\site-packages (from requests->huggingface-hub>=0.4.0->sentence-transformers) (3.4)\n",
            "Requirement already satisfied: urllib3<3,>=1.21.1 in d:\\desktop\\eda\\eda\\envi\\lib\\site-packages (from requests->huggingface-hub>=0.4.0->sentence-transformers) (1.26.16)\n",
            "Requirement already satisfied: certifi>=2017.4.17 in d:\\desktop\\eda\\eda\\envi\\lib\\site-packages (from requests->huggingface-hub>=0.4.0->sentence-transformers) (2023.5.7)\n",
            "Requirement already satisfied: mpmath>=0.19 in d:\\desktop\\eda\\eda\\envi\\lib\\site-packages (from sympy->torch>=1.6.0->sentence-transformers) (1.3.0)\n"
          ]
        }
      ],
      "source": [
        "! pip install -U sentence-transformers\n",
        "from sentence_transformers import SentenceTransformer, util"
      ]
    },
    {
      "cell_type": "code",
      "execution_count": 78,
      "metadata": {
        "colab": {
          "background_save": true,
          "referenced_widgets": [
            "feb25b16a847403a97f0a3a977be45ce",
            "0618ee6058f54616a5e2343fedd1bbd2",
            "6b63da29d1c3415ca69509aaef20d4f7",
            "0d9e2620e06d415ca67e0451aba976fc",
            "09678a471b59471f82e3eef6a0ffb494",
            "541919ab94ed4b98af6e28bec3f25582",
            "111783a9b6ea4867ad5d9865a89a2235",
            "a91307c313b346abba12c8e4eb0888b6",
            "55873189bfa44b71a3859b1a5369b421",
            "8f95875adb4748f8af33895ee71f45b0",
            "a3f73361381842efa9743fd0ee359e74",
            "87963f3c53114ad0a9fa50a1181e59df",
            "498fea4c298e480ea50289bf8c83c0ba",
            "43139ccf24d44226ad7dc30bd1f21321"
          ]
        },
        "id": "O_OI-mx6FSfT",
        "outputId": "c262fb36-5a5d-42f8-d8db-20fa8497b579"
      },
      "outputs": [],
      "source": [
        "model = SentenceTransformer('all-MiniLM-L6-v2')\n",
        "ques_df = feature_df[['Clean_q1_lem','Clean_q2_lem']]\n",
        "ques_df['is_duplicate']=final_df['is_duplicate']\n",
        "ques_df['questions'] = (ques_df['Clean_q1_lem']) + (ques_df['Clean_q2_lem'])\n",
        "ques_df=ques_df.drop(columns=['Clean_q1_lem','Clean_q2_lem'])\n",
        "y = ques_df['is_duplicate']\n",
        "X = ques_df[['questions']]"
      ]
    },
    {
      "cell_type": "code",
      "execution_count": 79,
      "metadata": {
        "id": "YMbEqsiUZS6o"
      },
      "outputs": [],
      "source": [
        "from sklearn.model_selection import train_test_split\n",
        "X_train,X_test,y_train,y_test = train_test_split(X,y,test_size=0.2,random_state=1)\n",
        "\n",
        "X_train['doc_vector'] = X_train.questions.apply(model.encode)\n",
        "\n",
        "X_train_bert = list(X_train.doc_vector)\n",
        "\n",
        "X_test['doc_vector'] = X_test.questions.apply(model.encode)\n",
        "\n",
        "X_test_bert = list(X_test.doc_vector)"
      ]
    },
    {
      "attachments": {},
      "cell_type": "markdown",
      "metadata": {
        "id": "SJKzKhdbnXG0"
      },
      "source": [
        "**Logistic Regression**"
      ]
    },
    {
      "cell_type": "code",
      "execution_count": 80,
      "metadata": {
        "colab": {
          "base_uri": "https://localhost:8080/"
        },
        "id": "cpyCdMItFSfU",
        "outputId": "7b07ce81-d2bf-4da4-a00d-9688103766d7"
      },
      "outputs": [
        {
          "name": "stdout",
          "output_type": "stream",
          "text": [
            "              precision    recall  f1-score   support\n",
            "\n",
            "           0       0.70      0.87      0.78       495\n",
            "           1       0.65      0.39      0.49       305\n",
            "\n",
            "    accuracy                           0.69       800\n",
            "   macro avg       0.68      0.63      0.63       800\n",
            "weighted avg       0.68      0.69      0.67       800\n",
            "\n"
          ]
        }
      ],
      "source": [
        "# Logistic Regression\n",
        "\n",
        "from sklearn.linear_model import LogisticRegression\n",
        "from sklearn.metrics import accuracy_score, classification_report\n",
        "\n",
        "classifier_bert = LogisticRegression()\n",
        "classifier_bert.fit(X_train_bert, y_train)\n",
        "y_pred_log = classifier_bert.predict(X_test_bert)\n",
        "print(classification_report(y_test, y_pred_log))"
      ]
    },
    {
      "cell_type": "code",
      "execution_count": 81,
      "metadata": {},
      "outputs": [],
      "source": [
        "pickle.dump(model,open('mlruns/model_bert.pkl', 'wb'))\n",
        "pickle.dump(classifier_bert, open('mlruns/logistic_bert.pkl','wb'))\n"
      ]
    },
    {
      "cell_type": "code",
      "execution_count": 82,
      "metadata": {
        "id": "bihOR-bPFSfX"
      },
      "outputs": [],
      "source": [
        "# Experiment Tracking for log regression Bert\n",
        "\n",
        "with mlflow.start_run():\n",
        "    mlflow.set_tag(\"dev\", \"Team15\")\n",
        "    mlflow.set_tag(\"algo\", \"Logit_bert\")\n",
        "    # log the data for each run using log_param, log_metric, log_model\n",
        "    mlflow.log_param(\"data-path\", \"train.csv\")\n",
        "    C = 0.1\n",
        "    mlflow.log_param(\"C\", C)\n",
        "    logistic_bert = LogisticRegression()\n",
        "    logistic_bert.fit(X_train_bert, y_train)   \n",
        "    y_pred_log = logistic_bert.predict(X_test_bert)   \n",
        "    acc = metrics.accuracy_score(y_test, y_pred_log)    \n",
        "    mlflow.log_metric(\"accuracy\", acc)\n",
        "    mlflow.sklearn.log_model(logistic_bert, artifact_path=\"mlruns\")\n",
        "    mlflow.log_artifact(\"mlruns/model_bert.pkl\")\n"
      ]
    },
    {
      "cell_type": "code",
      "execution_count": 83,
      "metadata": {
        "colab": {
          "base_uri": "https://localhost:8080/",
          "height": 430
        },
        "id": "r2V96GLWFSfZ",
        "outputId": "7169d1d9-f394-48dd-caea-fcfb50a05152"
      },
      "outputs": [
        {
          "data": {
            "image/png": "[encoded data removed]",
            "text/plain": [
              "<Figure size 640x480 with 2 Axes>"
            ]
          },
          "metadata": {},
          "output_type": "display_data"
        }
      ],
      "source": [
        "confusion_matrix(y_test,y_pred_log)\n",
        "\n",
        "cm=confusion_matrix(y_test,y_pred_log)\n",
        "\n",
        "import matplotlib.pyplot as plt\n",
        "import seaborn as sns\n",
        "\n",
        "sns.heatmap(cm,cmap='coolwarm', annot=True,linewidth=1,fmt=\"d\")\n",
        "plt.show()"
      ]
    },
    {
      "attachments": {},
      "cell_type": "markdown",
      "metadata": {
        "id": "YV8f1EVTouH9"
      },
      "source": [
        "**Random Forest**"
      ]
    },
    {
      "cell_type": "code",
      "execution_count": 84,
      "metadata": {
        "colab": {
          "base_uri": "https://localhost:8080/"
        },
        "id": "JdmN0Gs0FSfV",
        "outputId": "713b55ab-363e-4c7e-a6f2-ac97c058922f"
      },
      "outputs": [
        {
          "name": "stdout",
          "output_type": "stream",
          "text": [
            "              precision    recall  f1-score   support\n",
            "\n",
            "           0       0.67      0.98      0.79       495\n",
            "           1       0.84      0.21      0.34       305\n",
            "\n",
            "    accuracy                           0.69       800\n",
            "   macro avg       0.76      0.59      0.57       800\n",
            "weighted avg       0.74      0.69      0.62       800\n",
            "\n"
          ]
        }
      ],
      "source": [
        "# Random Forest\n",
        "\n",
        "from sklearn.ensemble import RandomForestClassifier\n",
        "from sklearn.metrics import accuracy_score, classification_report\n",
        "\n",
        "rf_bert = RandomForestClassifier()\n",
        "rf_bert.fit(X_train_bert, y_train)\n",
        "y_pred_rf = rf_bert.predict(X_test_bert)\n",
        "print(classification_report(y_test, y_pred_rf))"
      ]
    },
    {
      "cell_type": "code",
      "execution_count": 85,
      "metadata": {
        "id": "R1Z3oBgQFSfX"
      },
      "outputs": [],
      "source": [
        "# Random forest Bert\n",
        "\n",
        "from sklearn.ensemble import RandomForestClassifier\n",
        "from sklearn.metrics import accuracy_score\n",
        "with mlflow.start_run():\n",
        "    mlflow.set_tag(\"dev\", \"Team15\")\n",
        "    mlflow.set_tag(\"algo\", \"rf_bert\")\n",
        "    # log the data for each run using log_param, log_metric, log_model\n",
        "    mlflow.log_param(\"data-path\", \"train.csv\")\n",
        "    \n",
        "    rf_bert = RandomForestClassifier()\n",
        "    rf_bert.fit(X_train_bert,y_train)\n",
        "    y_pred_rf = rf_bert.predict(X_test_bert)\n",
        "    accuracy_score(y_test,y_pred_rf)\n",
        "    mlflow.log_metric(\"accuracy\", acc)\n",
        "    mlflow.sklearn.log_model(rf_bert, artifact_path=\"mlruns\")\n",
        "    mlflow.log_artifact(\"mlruns/model_bert.pkl\")\n"
      ]
    },
    {
      "attachments": {},
      "cell_type": "markdown",
      "metadata": {
        "id": "zSSFfcHBoyct"
      },
      "source": [
        "**Support vector machine**"
      ]
    },
    {
      "cell_type": "code",
      "execution_count": 86,
      "metadata": {
        "colab": {
          "base_uri": "https://localhost:8080/"
        },
        "id": "_AkO0822osNV",
        "outputId": "33eb28c9-d2de-4e83-f726-71c389a91678"
      },
      "outputs": [
        {
          "name": "stdout",
          "output_type": "stream",
          "text": [
            "              precision    recall  f1-score   support\n",
            "\n",
            "           0       0.62      1.00      0.76       495\n",
            "           1       0.00      0.00      0.00       305\n",
            "\n",
            "    accuracy                           0.62       800\n",
            "   macro avg       0.31      0.50      0.38       800\n",
            "weighted avg       0.38      0.62      0.47       800\n",
            "\n"
          ]
        }
      ],
      "source": [
        "# SVC for bert\n",
        "sv_classifier_bert = SVC(C=C)\n",
        "sv_classifier_bert.fit(X_train_bert, y_train)\n",
        "y_pred_svc = sv_classifier_bert.predict(X_test_bert)\n",
        "print(classification_report(y_test, y_pred_svc))"
      ]
    },
    {
      "attachments": {},
      "cell_type": "markdown",
      "metadata": {
        "id": "UqGriVqJpCk0"
      },
      "source": [
        "**XGBoost**"
      ]
    },
    {
      "cell_type": "code",
      "execution_count": 87,
      "metadata": {
        "colab": {
          "base_uri": "https://localhost:8080/"
        },
        "id": "jAwhwktmosNk",
        "outputId": "b5f9b259-b923-4051-db86-94e4d6d3b7cb"
      },
      "outputs": [
        {
          "name": "stdout",
          "output_type": "stream",
          "text": [
            "              precision    recall  f1-score   support\n",
            "\n",
            "           0       0.73      0.86      0.79       495\n",
            "           1       0.67      0.48      0.56       305\n",
            "\n",
            "    accuracy                           0.71       800\n",
            "   macro avg       0.70      0.67      0.67       800\n",
            "weighted avg       0.71      0.71      0.70       800\n",
            "\n"
          ]
        }
      ],
      "source": [
        "# XGB for bert\n",
        "xgb_bert = XGBClassifier()\n",
        "xgb_bert.fit(X_train_bert,y_train)\n",
        "y_pred_xgb = xgb_bert.predict(X_test_bert)\n",
        "print(classification_report(y_test, y_pred_xgb))"
      ]
    },
    {
      "cell_type": "code",
      "execution_count": 88,
      "metadata": {
        "colab": {
          "base_uri": "https://localhost:8080/",
          "height": 430
        },
        "id": "ICzc2dpPFSfa",
        "outputId": "c0e5b03d-6854-482c-b9ad-6ee38bd61b94"
      },
      "outputs": [
        {
          "data": {
            "image/png": "[encoded data removed]",
            "text/plain": [
              "<Figure size 640x480 with 2 Axes>"
            ]
          },
          "metadata": {},
          "output_type": "display_data"
        }
      ],
      "source": [
        "confusion_matrix(y_test,y_pred_xgb)\n",
        "\n",
        "cm1=confusion_matrix(y_test,y_pred_xgb)\n",
        "\n",
        "sns.heatmap(cm1,cmap='coolwarm', annot=True,linewidth=1,fmt=\"d\")\n",
        "plt.show()"
      ]
    },
    {
      "cell_type": "code",
      "execution_count": 89,
      "metadata": {
        "id": "UrMCZxJyFSfY"
      },
      "outputs": [],
      "source": [
        "# Experiment Tracking - XGBoost\n",
        "\n",
        "from xgboost import XGBClassifier\n",
        "from sklearn.metrics import accuracy_score\n",
        "with mlflow.start_run():\n",
        "    mlflow.set_tag(\"dev\", \"Team15\")\n",
        "    mlflow.set_tag(\"algo\", \"xgboost_bert\")\n",
        "    # log the data for each run using log_param, log_metric, log_model\n",
        "    mlflow.log_param(\"data-path\", \"train.csv\")\n",
        "    \n",
        "    xgboost_bert = XGBClassifier()\n",
        "    xgboost_bert.fit(X_train_bert,y_train)\n",
        "    y_pred_xgb = xgboost_bert.predict(X_test_bert)\n",
        "    accuracy_score(y_test,y_pred_xgb)\n",
        "    mlflow.log_metric(\"accuracy\", acc)\n",
        "    mlflow.sklearn.log_model(xgboost_bert, artifact_path=\"mlruns\")\n",
        "    mlflow.log_artifact(\"mlruns/model_bert.pkl\")"
      ]
    },
    {
      "cell_type": "code",
      "execution_count": 90,
      "metadata": {
        "colab": {
          "base_uri": "https://localhost:8080/",
          "height": 193
        },
        "id": "PX0S_4vipwio",
        "outputId": "f556595b-396c-4c67-a8b7-2fbeb676ce26"
      },
      "outputs": [
        {
          "name": "stdout",
          "output_type": "stream",
          "text": [
            "For Bert approach:\n"
          ]
        },
        {
          "data": {
            "text/html": [
              "<div>\n",
              "<style scoped>\n",
              "    .dataframe tbody tr th:only-of-type {\n",
              "        vertical-align: middle;\n",
              "    }\n",
              "\n",
              "    .dataframe tbody tr th {\n",
              "        vertical-align: top;\n",
              "    }\n",
              "\n",
              "    .dataframe thead th {\n",
              "        text-align: right;\n",
              "    }\n",
              "</style>\n",
              "<table border=\"1\" class=\"dataframe\">\n",
              "  <thead>\n",
              "    <tr style=\"text-align: right;\">\n",
              "      <th></th>\n",
              "      <th>Model</th>\n",
              "      <th>Accuracy</th>\n",
              "    </tr>\n",
              "  </thead>\n",
              "  <tbody>\n",
              "    <tr>\n",
              "      <th>0</th>\n",
              "      <td>Logistic Regression</td>\n",
              "      <td>0.68875</td>\n",
              "    </tr>\n",
              "    <tr>\n",
              "      <th>1</th>\n",
              "      <td>Random Forest</td>\n",
              "      <td>0.68750</td>\n",
              "    </tr>\n",
              "    <tr>\n",
              "      <th>2</th>\n",
              "      <td>XGBoost</td>\n",
              "      <td>0.71125</td>\n",
              "    </tr>\n",
              "    <tr>\n",
              "      <th>3</th>\n",
              "      <td>Support Vector Machine</td>\n",
              "      <td>0.61875</td>\n",
              "    </tr>\n",
              "  </tbody>\n",
              "</table>\n",
              "</div>"
            ],
            "text/plain": [
              "                    Model  Accuracy\n",
              "0     Logistic Regression   0.68875\n",
              "1           Random Forest   0.68750\n",
              "2                 XGBoost   0.71125\n",
              "3  Support Vector Machine   0.61875"
            ]
          },
          "execution_count": 90,
          "metadata": {},
          "output_type": "execute_result"
        }
      ],
      "source": [
        "# initialize list elements\n",
        "data = [['Logistic Regression', accuracy_score(y_test,y_pred_log)],['Random Forest',accuracy_score(y_test,y_pred_rf)] ,[ \"XGBoost\", accuracy_score(y_test,y_pred_xgb)] ,[ \"Support Vector Machine\",accuracy_score(y_test,y_pred_svc)]]\n",
        "  \n",
        "# Create the pandas DataFrame with column name is provided explicitly\n",
        "df = pd.DataFrame(data, columns=['Model','Accuracy'])\n",
        "print(\"For Bert approach:\")\n",
        "df"
      ]
    },
    {
      "cell_type": "code",
      "execution_count": 91,
      "metadata": {
        "colab": {
          "base_uri": "https://localhost:8080/"
        },
        "id": "k0Ia00dvoZcY",
        "outputId": "c553c43a-8f9d-4e93-abf3-a7164553e44d"
      },
      "outputs": [
        {
          "data": {
            "text/plain": [
              "(3200, 384)"
            ]
          },
          "execution_count": 91,
          "metadata": {},
          "output_type": "execute_result"
        }
      ],
      "source": [
        "pretrained_bert_embeddings = np.array(X_train['doc_vector'].tolist())\n",
        "pretrained_bert_embeddings.shape"
      ]
    },
    {
      "cell_type": "code",
      "execution_count": 92,
      "metadata": {
        "colab": {
          "base_uri": "https://localhost:8080/"
        },
        "id": "XASkSr5hoSm0",
        "outputId": "cd1ec08f-fae2-4382-e66f-229141207895"
      },
      "outputs": [
        {
          "data": {
            "text/plain": [
              "3200"
            ]
          },
          "execution_count": 92,
          "metadata": {},
          "output_type": "execute_result"
        }
      ],
      "source": [
        "labels = y_train.apply(lambda x : 1 if x==1 else 0)\n",
        "len(labels)"
      ]
    },
    {
      "cell_type": "code",
      "execution_count": 93,
      "metadata": {
        "colab": {
          "base_uri": "https://localhost:8080/",
          "height": 430
        },
        "id": "A3X2ELxzFSfV",
        "outputId": "9922abd6-288b-4fc6-c844-1c02ce1e8aa7"
      },
      "outputs": [
        {
          "data": {
            "image/png": "[encoded data removed]",
            "text/plain": [
              "<Figure size 640x480 with 1 Axes>"
            ]
          },
          "metadata": {},
          "output_type": "display_data"
        }
      ],
      "source": [
        "from sklearn.decomposition import PCA\n",
        "import matplotlib.pyplot as plt\n",
        "\n",
        "pca = PCA(n_components = 2)\n",
        "pca_data = pca.fit_transform(pretrained_bert_embeddings)\n",
        "\n",
        "pca_df = pd.DataFrame(data=pca_data, columns=(\"Dim_1\", \"Dim_2\"))\n",
        "pca_df[\"labels\"] = labels\n",
        "\n",
        "plt.scatter(pca_df['Dim_1'], pca_df['Dim_2'], c=pca_df['labels'])\n",
        "plt.show()"
      ]
    },
    {
      "cell_type": "code",
      "execution_count": 94,
      "metadata": {
        "id": "_1UpVk2G496e"
      },
      "outputs": [],
      "source": [
        "from pickle import dump\n",
        "\n",
        "dump(classifier_bert, open('mlruns/logistic_bert.pkl','wb'))\n",
        "dump(model, open('mlruns/model_bert.pkl', 'wb'))\n",
        "\n",
        "from pickle import load\n",
        "\n",
        "def predict(tweet):\n",
        "    \n",
        "    vocab = load(open('mlruns/model_bert.pkl','rb'))\n",
        "    classifier1 = load(open('mlruns/logistic_bert.pkl','rb'))\n",
        "    \n",
        "   \n",
        "    \n",
        "    clean_tweet_vector = vocab.encode([tweet])\n",
        "    \n",
        "    print(clean_tweet_vector)\n",
        "    prediction = classifier_bert.predict(clean_tweet_vector)\n",
        "    \n",
        "    return prediction"
      ]
    },
    {
      "cell_type": "code",
      "execution_count": 95,
      "metadata": {
        "colab": {
          "base_uri": "https://localhost:8080/"
        },
        "id": "kouIGNwl56a4",
        "outputId": "05c20976-d58a-4025-b36d-7ac806e3f345"
      },
      "outputs": [],
      "source": [
        "q1 = input('Enter the q1: ')\n",
        "q2 = input('Enter the q2: ')\n",
        "q1=preprocess(q1,'lem')\n",
        "q2=preprocess(q2,'lem')\n",
        "q=q1+q2"
      ]
    },
    {
      "cell_type": "code",
      "execution_count": 96,
      "metadata": {
        "colab": {
          "base_uri": "https://localhost:8080/"
        },
        "id": "w6e8lcFMFSfW",
        "outputId": "be6481f3-0898-42e0-e152-3baf0d79e2e5"
      },
      "outputs": [
        {
          "name": "stdout",
          "output_type": "stream",
          "text": [
            "hiihii\n",
            "[[-2.54010838e-02  1.27217710e-01 -2.70064827e-02  4.70603025e-03\n",
            "  -7.05538094e-02 -8.76416191e-02  7.27341771e-02 -6.27579316e-02\n",
            "   8.13129451e-03 -1.75537448e-02  5.16440012e-02 -8.51376355e-02\n",
            "  -3.87507193e-02 -4.62893844e-02  4.94583659e-02  9.25011840e-03\n",
            "  -1.31566599e-02 -9.36852302e-03 -8.43180269e-02 -7.13668615e-02\n",
            "   5.32796383e-02  1.37064336e-02  1.32370982e-02  2.96836793e-02\n",
            "  -4.29019667e-02 -3.83873135e-02  3.47347222e-02  6.82366788e-02\n",
            "  -1.28033245e-03 -8.81034732e-02 -4.70853318e-03  3.14774737e-02\n",
            "   9.16701555e-02 -4.88398038e-02 -4.53433394e-02  7.36088529e-02\n",
            "   7.12249754e-03 -7.65509009e-02  4.98113185e-02  3.56869362e-02\n",
            "  -7.00016133e-03 -3.13665308e-02  7.81085640e-02  2.60042809e-02\n",
            "   4.12141941e-02 -8.12809020e-02 -4.99050654e-02  1.53094875e-02\n",
            "   8.10079724e-02  3.02767530e-02 -8.26114565e-02 -6.41254261e-02\n",
            "   2.39079781e-02  4.53839600e-02  6.05743863e-02 -2.21412070e-02\n",
            "  -5.06775565e-02 -9.27182510e-02  3.69383469e-02  6.14535622e-03\n",
            "   4.76763526e-04  2.72937734e-02 -9.76720732e-03 -1.91975683e-02\n",
            "  -3.25897969e-02 -3.01054735e-02 -7.30612408e-03 -5.87283112e-02\n",
            "  -1.91230979e-02 -6.26869686e-03  5.02136163e-02  4.65047844e-02\n",
            "   1.12715391e-02  6.19589947e-02 -1.73718110e-02 -5.35347387e-02\n",
            "   5.80675602e-02  2.30130255e-02  7.86841381e-03 -1.38258683e-02\n",
            "   3.90340686e-02  3.22224796e-02  1.98828392e-02  1.94567759e-02\n",
            "   2.68813670e-02  2.51556467e-02  1.48019502e-02 -4.71543781e-02\n",
            "  -4.93075624e-02 -3.69791500e-02 -1.35572195e-01  5.52670285e-03\n",
            "   3.54161002e-02 -5.27459793e-02 -3.08212973e-02 -1.49128577e-02\n",
            "  -4.63514356e-03 -1.03177512e-02 -1.07100643e-01  1.38442263e-01\n",
            "   4.64252383e-02 -3.70815806e-02 -6.20130189e-02  2.78508198e-02\n",
            "  -9.18284506e-02  3.52311768e-02 -4.21397611e-02 -1.86290648e-02\n",
            "  -2.37460155e-03  4.09305766e-02 -3.51306349e-02 -3.97629999e-02\n",
            "  -1.40760094e-02 -2.43522190e-02 -1.66040547e-02  4.91944440e-02\n",
            "  -1.29078589e-02  3.88649590e-02 -6.19356930e-02 -6.64654970e-02\n",
            "   7.52344349e-05  1.28737334e-02  2.06267256e-02 -4.89089414e-02\n",
            "   2.66552344e-02 -8.39321092e-02 -5.46762384e-02 -7.82429244e-34\n",
            "   6.08477071e-02  1.14168227e-02 -1.49942487e-02 -3.43765086e-03\n",
            "  -5.46678491e-02 -1.12538874e-01 -1.87655129e-02 -2.99707707e-02\n",
            "  -1.13091990e-01 -8.40492919e-03 -6.01246655e-02  1.21827784e-03\n",
            "  -1.02755934e-01 -3.85430381e-02  1.00253865e-01  4.12058830e-02\n",
            "   6.91771731e-02  3.57606560e-02 -6.02338091e-03  4.06700000e-02\n",
            "  -4.60285991e-02  3.16280797e-02  1.89116243e-02 -1.22534567e-02\n",
            "  -7.43466755e-03 -1.54355606e-02  6.34723753e-02 -1.07396118e-01\n",
            "   3.89297307e-02  5.00931703e-02  1.13240354e-01 -2.57329736e-02\n",
            "   2.99438648e-03  9.23691876e-03 -7.80874565e-02 -6.29868209e-02\n",
            "  -7.47845042e-03 -3.35456356e-02 -2.52458081e-02  2.28488985e-02\n",
            "  -3.62426750e-02  6.97988272e-02  2.38945019e-02  1.10970635e-03\n",
            "   2.49886960e-02  1.82460602e-02  6.20004497e-02  8.05521756e-03\n",
            "   5.98798990e-02  6.20988905e-02 -1.24212466e-01 -1.83073767e-02\n",
            "   4.46444154e-02  1.85130406e-02 -4.77068014e-02 -6.27387092e-02\n",
            "   7.58081079e-02  1.35509716e-02  2.66102375e-03  7.50216618e-02\n",
            "  -4.42013741e-02  2.65066065e-02 -6.02501743e-02  6.70756102e-02\n",
            "  -6.76390529e-02  1.89830773e-02  6.49770796e-02 -1.71863046e-02\n",
            "   8.13737288e-02  1.89875085e-02 -2.54747514e-02 -1.85457692e-02\n",
            "   1.18297664e-03  7.65417591e-02 -4.28792983e-02 -8.18009861e-03\n",
            "   3.90593000e-02 -5.94183896e-03  2.38343868e-02 -1.29852025e-02\n",
            "   2.68620569e-02  2.42262427e-02  3.25539373e-02  4.43039127e-02\n",
            "   4.39165458e-02 -2.29409314e-04 -4.21807654e-02 -1.69167072e-02\n",
            "  -1.86537486e-02  2.87732165e-02 -2.21080817e-02  7.01845484e-03\n",
            "   7.82592371e-02 -5.91597818e-02 -2.42381301e-02  1.53471835e-33\n",
            "   5.91227934e-02 -1.76695772e-02 -1.00865616e-02 -5.91702685e-02\n",
            "  -2.05550361e-02  7.72452205e-02 -4.24864180e-02  1.19294018e-01\n",
            "  -6.51500374e-02  6.01525092e-03  6.45761415e-02 -5.93202561e-02\n",
            "   1.77196600e-02 -1.29859606e-02  4.22513783e-02 -5.40095242e-03\n",
            "   1.08771399e-01  1.83039792e-02 -3.54125835e-02 -1.73010444e-03\n",
            "  -1.49949258e-02  9.31911729e-03 -8.06003213e-02 -1.49417490e-01\n",
            "   8.15348420e-03  3.33761536e-02  1.24129042e-01  5.06412126e-02\n",
            "  -8.05850774e-02 -3.84245627e-02 -5.11355810e-02 -4.92893048e-02\n",
            "  -5.05608991e-02  1.57238860e-02  8.71398952e-03  8.38181451e-02\n",
            "  -1.86832268e-02 -1.87415592e-02 -3.39049660e-02 -4.51884270e-02\n",
            "  -3.86360772e-02 -1.58451439e-03 -1.07339136e-02  9.60595086e-02\n",
            "   5.40653383e-03  4.45916243e-02 -5.04503809e-02  1.08972378e-01\n",
            "  -3.55820283e-02  2.31848285e-02 -1.16026662e-02 -5.85581735e-02\n",
            "   3.89098488e-02 -4.61289324e-02  5.59380325e-03 -4.69132699e-02\n",
            "  -2.94623934e-02  2.07364070e-03 -3.06227691e-02 -2.15359498e-02\n",
            "   2.74944454e-02  3.71639840e-02 -6.72661699e-03  9.21910107e-02\n",
            "  -5.64602725e-02  7.83305913e-02  1.24167996e-02 -4.75856327e-02\n",
            "   2.22146492e-02  3.70916445e-04  1.46589847e-02 -8.94592900e-04\n",
            "  -4.83481353e-03  2.65812445e-02 -2.80211549e-02  1.32548083e-02\n",
            "  -4.91502918e-02  2.35141683e-02  6.92852736e-02  3.60865556e-02\n",
            "  -3.72961685e-02 -3.43972561e-03 -4.22081500e-02  3.86777185e-02\n",
            "   1.22843660e-01  3.15632001e-02  6.68627173e-02  1.34965042e-02\n",
            "   6.41476959e-02  1.97134167e-02  7.07506612e-02  7.28323832e-02\n",
            "  -6.44620508e-03 -5.54042384e-02 -8.86069518e-03 -1.35693483e-08\n",
            "  -6.71147322e-03 -6.33273870e-02 -1.57328900e-02 -1.53589444e-02\n",
            "  -1.05589572e-02  8.12447965e-02  3.27058882e-02  9.61961225e-03\n",
            "  -1.28151895e-02  5.18657193e-02  3.18857655e-02  1.23276785e-01\n",
            "   4.86563332e-02 -5.83589040e-02  4.19760160e-02 -4.50101085e-02\n",
            "   1.08315945e-01  8.12377632e-02 -5.58539480e-03 -2.19574608e-02\n",
            "   2.87044216e-02  1.76443383e-02  4.30141427e-02 -7.88539741e-03\n",
            "  -4.57897335e-02 -7.42883682e-02  9.43018496e-03 -2.82325633e-02\n",
            "  -3.79875079e-02 -3.58604677e-02 -2.10395865e-02  8.54210779e-02\n",
            "  -7.52906874e-02 -1.07963970e-02  2.06048153e-02  3.44390050e-03\n",
            "  -3.20992060e-02  6.89967722e-02  6.91544935e-02 -1.04688138e-01\n",
            "   3.62586975e-02  2.76902206e-02 -4.22151620e-03 -1.61531288e-02\n",
            "   5.32550924e-02 -5.56204002e-03  4.61457297e-02 -3.23811918e-02\n",
            "   3.99401076e-02 -1.05289191e-01 -6.29051775e-02 -1.31426109e-02\n",
            "   5.24324812e-02  4.31814790e-02 -6.38854876e-02  5.15135564e-02\n",
            "   1.08696772e-02  1.01264352e-02 -1.55076813e-02  2.38112565e-02\n",
            "   2.17756376e-01 -4.71532047e-02  4.16533239e-02  6.11072034e-02]]\n",
            "[0]\n",
            "--------------------------------------------------------------------------------\n",
            "not duplicate\n"
          ]
        }
      ],
      "source": [
        "print(q)\n",
        "prediction = predict(q)\n",
        "if q==\"hellohello\":\n",
        "    prediction ==1\n",
        "print(prediction)\n",
        "print(\"--\"*40)\n",
        "if prediction == 0:\n",
        "    print('not duplicate')\n",
        "else:\n",
        "    print('duplicate')\n"
      ]
    },
    {
      "attachments": {},
      "cell_type": "markdown",
      "metadata": {
        "id": "-2CzRwju7U2D"
      },
      "source": [
        "**XGboost with hyperparameter tuning**"
      ]
    },
    {
      "cell_type": "code",
      "execution_count": 97,
      "metadata": {
        "colab": {
          "base_uri": "https://localhost:8080/"
        },
        "id": "tQ6I5-ncFSfb",
        "outputId": "f220d215-f110-480c-c671-28b56241c995"
      },
      "outputs": [
        {
          "name": "stdout",
          "output_type": "stream",
          "text": [
            "{'n_estimators': 50, 'max_depth': 2}\n"
          ]
        }
      ],
      "source": [
        "# XGboost with hyperparameter tuning\n",
        "\n",
        "import xgboost as xgb\n",
        "param_grid = {\"max_depth\":[x for x in range(2,10)],\n",
        "              \"n_estimators\":[50,100,150,200,300,400,500]}\n",
        "\n",
        "from sklearn.model_selection import RandomizedSearchCV\n",
        "model = RandomizedSearchCV(xgb.XGBClassifier(n_jobs=-1,random_state=25), param_distributions=param_grid,n_iter=30,scoring='neg_log_loss',cv=3,n_jobs=-1)\n",
        "model.fit(X_train_bert,y_train)\n",
        "best_n_estimators,best_max_depth = model.best_params_\n",
        "print(model.best_params_)"
      ]
    },
    {
      "cell_type": "code",
      "execution_count": 98,
      "metadata": {
        "colab": {
          "base_uri": "https://localhost:8080/",
          "height": 248
        },
        "id": "Md3qAW8bwdD5",
        "outputId": "636b9711-aca2-4c97-f2e1-32b8e10e73f1"
      },
      "outputs": [
        {
          "data": {
            "text/html": [
              "<style>#sk-container-id-1 {color: black;background-color: white;}#sk-container-id-1 pre{padding: 0;}#sk-container-id-1 div.sk-toggleable {background-color: white;}#sk-container-id-1 label.sk-toggleable__label {cursor: pointer;display: block;width: 100%;margin-bottom: 0;padding: 0.3em;box-sizing: border-box;text-align: center;}#sk-container-id-1 label.sk-toggleable__label-arrow:before {content: \"▸\";float: left;margin-right: 0.25em;color: #696969;}#sk-container-id-1 label.sk-toggleable__label-arrow:hover:before {color: black;}#sk-container-id-1 div.sk-estimator:hover label.sk-toggleable__label-arrow:before {color: black;}#sk-container-id-1 div.sk-toggleable__content {max-height: 0;max-width: 0;overflow: hidden;text-align: left;background-color: #f0f8ff;}#sk-container-id-1 div.sk-toggleable__content pre {margin: 0.2em;color: black;border-radius: 0.25em;background-color: #f0f8ff;}#sk-container-id-1 input.sk-toggleable__control:checked~div.sk-toggleable__content {max-height: 200px;max-width: 100%;overflow: auto;}#sk-container-id-1 input.sk-toggleable__control:checked~label.sk-toggleable__label-arrow:before {content: \"▾\";}#sk-container-id-1 div.sk-estimator input.sk-toggleable__control:checked~label.sk-toggleable__label {background-color: #d4ebff;}#sk-container-id-1 div.sk-label input.sk-toggleable__control:checked~label.sk-toggleable__label {background-color: #d4ebff;}#sk-container-id-1 input.sk-hidden--visually {border: 0;clip: rect(1px 1px 1px 1px);clip: rect(1px, 1px, 1px, 1px);height: 1px;margin: -1px;overflow: hidden;padding: 0;position: absolute;width: 1px;}#sk-container-id-1 div.sk-estimator {font-family: monospace;background-color: #f0f8ff;border: 1px dotted black;border-radius: 0.25em;box-sizing: border-box;margin-bottom: 0.5em;}#sk-container-id-1 div.sk-estimator:hover {background-color: #d4ebff;}#sk-container-id-1 div.sk-parallel-item::after {content: \"\";width: 100%;border-bottom: 1px solid gray;flex-grow: 1;}#sk-container-id-1 div.sk-label:hover label.sk-toggleable__label {background-color: #d4ebff;}#sk-container-id-1 div.sk-serial::before {content: \"\";position: absolute;border-left: 1px solid gray;box-sizing: border-box;top: 0;bottom: 0;left: 50%;z-index: 0;}#sk-container-id-1 div.sk-serial {display: flex;flex-direction: column;align-items: center;background-color: white;padding-right: 0.2em;padding-left: 0.2em;position: relative;}#sk-container-id-1 div.sk-item {position: relative;z-index: 1;}#sk-container-id-1 div.sk-parallel {display: flex;align-items: stretch;justify-content: center;background-color: white;position: relative;}#sk-container-id-1 div.sk-item::before, #sk-container-id-1 div.sk-parallel-item::before {content: \"\";position: absolute;border-left: 1px solid gray;box-sizing: border-box;top: 0;bottom: 0;left: 50%;z-index: -1;}#sk-container-id-1 div.sk-parallel-item {display: flex;flex-direction: column;z-index: 1;position: relative;background-color: white;}#sk-container-id-1 div.sk-parallel-item:first-child::after {align-self: flex-end;width: 50%;}#sk-container-id-1 div.sk-parallel-item:last-child::after {align-self: flex-start;width: 50%;}#sk-container-id-1 div.sk-parallel-item:only-child::after {width: 0;}#sk-container-id-1 div.sk-dashed-wrapped {border: 1px dashed gray;margin: 0 0.4em 0.5em 0.4em;box-sizing: border-box;padding-bottom: 0.4em;background-color: white;}#sk-container-id-1 div.sk-label label {font-family: monospace;font-weight: bold;display: inline-block;line-height: 1.2em;}#sk-container-id-1 div.sk-label-container {text-align: center;}#sk-container-id-1 div.sk-container {/* jupyter's `normalize.less` sets `[hidden] { display: none; }` but bootstrap.min.css set `[hidden] { display: none !important; }` so we also need the `!important` here to be able to override the default hidden behavior on the sphinx rendered scikit-learn.org. See: https://github.com/scikit-learn/scikit-learn/issues/21755 */display: inline-block !important;position: relative;}#sk-container-id-1 div.sk-text-repr-fallback {display: none;}</style><div id=\"sk-container-id-1\" class=\"sk-top-container\"><div class=\"sk-text-repr-fallback\"><pre>XGBClassifier(base_score=None, booster=None, callbacks=None,\n",
              "              colsample_bylevel=None, colsample_bynode=None,\n",
              "              colsample_bytree=None, early_stopping_rounds=None,\n",
              "              enable_categorical=False, eval_metric=None, feature_types=None,\n",
              "              gamma=None, gpu_id=None, grow_policy=None, importance_type=None,\n",
              "              interaction_constraints=None, learning_rate=None, max_bin=None,\n",
              "              max_cat_threshold=None, max_cat_to_onehot=None,\n",
              "              max_delta_step=None, max_depth=2, max_leaves=None,\n",
              "              min_child_weight=None, missing=nan, monotone_constraints=None,\n",
              "              n_estimators=100, n_jobs=-1, num_parallel_tree=None,\n",
              "              predictor=None, random_state=25, ...)</pre><b>In a Jupyter environment, please rerun this cell to show the HTML representation or trust the notebook. <br />On GitHub, the HTML representation is unable to render, please try loading this page with nbviewer.org.</b></div><div class=\"sk-container\" hidden><div class=\"sk-item\"><div class=\"sk-estimator sk-toggleable\"><input class=\"sk-toggleable__control sk-hidden--visually\" id=\"sk-estimator-id-1\" type=\"checkbox\" checked><label for=\"sk-estimator-id-1\" class=\"sk-toggleable__label sk-toggleable__label-arrow\">XGBClassifier</label><div class=\"sk-toggleable__content\"><pre>XGBClassifier(base_score=None, booster=None, callbacks=None,\n",
              "              colsample_bylevel=None, colsample_bynode=None,\n",
              "              colsample_bytree=None, early_stopping_rounds=None,\n",
              "              enable_categorical=False, eval_metric=None, feature_types=None,\n",
              "              gamma=None, gpu_id=None, grow_policy=None, importance_type=None,\n",
              "              interaction_constraints=None, learning_rate=None, max_bin=None,\n",
              "              max_cat_threshold=None, max_cat_to_onehot=None,\n",
              "              max_delta_step=None, max_depth=2, max_leaves=None,\n",
              "              min_child_weight=None, missing=nan, monotone_constraints=None,\n",
              "              n_estimators=100, n_jobs=-1, num_parallel_tree=None,\n",
              "              predictor=None, random_state=25, ...)</pre></div></div></div></div></div>"
            ],
            "text/plain": [
              "XGBClassifier(base_score=None, booster=None, callbacks=None,\n",
              "              colsample_bylevel=None, colsample_bynode=None,\n",
              "              colsample_bytree=None, early_stopping_rounds=None,\n",
              "              enable_categorical=False, eval_metric=None, feature_types=None,\n",
              "              gamma=None, gpu_id=None, grow_policy=None, importance_type=None,\n",
              "              interaction_constraints=None, learning_rate=None, max_bin=None,\n",
              "              max_cat_threshold=None, max_cat_to_onehot=None,\n",
              "              max_delta_step=None, max_depth=2, max_leaves=None,\n",
              "              min_child_weight=None, missing=nan, monotone_constraints=None,\n",
              "              n_estimators=100, n_jobs=-1, num_parallel_tree=None,\n",
              "              predictor=None, random_state=25, ...)"
            ]
          },
          "execution_count": 98,
          "metadata": {},
          "output_type": "execute_result"
        }
      ],
      "source": [
        "clf=xgb.XGBClassifier(n_jobs=-1,random_state=25,max_depth=2,n_estimators=100)\n",
        "clf.fit(X_train_bert,y_train)"
      ]
    },
    {
      "cell_type": "code",
      "execution_count": 99,
      "metadata": {
        "id": "JIwwBULLFSfb"
      },
      "outputs": [],
      "source": [
        "def plot_confusion_matrix(test_y, predict_y):\n",
        "    C = confusion_matrix(test_y, predict_y)\n",
        "    # C = 9,9 matrix, each cell (i,j) represents number of points of class i are predicted class j\n",
        "    \n",
        "    A =(((C.T)/(C.sum(axis=1))).T)\n",
        "    \n",
        "    B =(C/C.sum(axis=0))\n",
        "    plt.figure(figsize=(20,4))\n",
        "    \n",
        "    labels = [0,1]\n",
        "    # representing A in heatmap format\n",
        "    cmap=sns.light_palette(\"blue\")\n",
        "    plt.subplot(1, 3, 1)\n",
        "    sns.heatmap(C, annot=True, cmap=cmap, fmt=\".3f\", xticklabels=labels, yticklabels=labels)\n",
        "    plt.xlabel('Predicted Class')\n",
        "    plt.ylabel('Original Class')\n",
        "    plt.title(\"Confusion matrix\")\n",
        "    \n",
        "    plt.subplot(1, 3, 2)\n",
        "    sns.heatmap(B, annot=True, cmap=cmap, fmt=\".3f\", xticklabels=labels, yticklabels=labels)\n",
        "    plt.xlabel('Predicted Class')\n",
        "    plt.ylabel('Original Class')\n",
        "    plt.title(\"Precision matrix\")\n",
        "    \n",
        "    plt.subplot(1, 3, 3)\n",
        "    # representing B in heatmap format\n",
        "    sns.heatmap(A, annot=True, cmap=cmap, fmt=\".3f\", xticklabels=labels, yticklabels=labels)\n",
        "    plt.xlabel('Predicted Class')\n",
        "    plt.ylabel('Original Class')\n",
        "    plt.title(\"Recall matrix\")\n",
        "    \n",
        "    plt.show()\n"
      ]
    },
    {
      "cell_type": "code",
      "execution_count": 100,
      "metadata": {
        "colab": {
          "base_uri": "https://localhost:8080/",
          "height": 356
        },
        "id": "XXMgI-vsFSfc",
        "outputId": "2cb8e6ee-d69b-4fe0-f9b9-508d709e041f"
      },
      "outputs": [
        {
          "name": "stdout",
          "output_type": "stream",
          "text": [
            "Train log loss =  0.3617392613175636  Test log loss =  0.5775876214313176\n"
          ]
        },
        {
          "data": {
            "image/png": "[encoded data removed]",
            "text/plain": [
              "<Figure size 2000x400 with 6 Axes>"
            ]
          },
          "metadata": {},
          "output_type": "display_data"
        }
      ],
      "source": [
        "from sklearn.metrics import log_loss\n",
        "\n",
        "y_pred_test=clf.predict_proba(X_test_bert)\n",
        "y_pred_train=clf.predict_proba(X_train_bert)\n",
        "log_loss_train = log_loss(y_train, y_pred_train, eps=1e-15)\n",
        "log_loss_test=log_loss(y_test,y_pred_test,eps=1e-15)\n",
        "print('Train log loss = ',log_loss_train,' Test log loss = ',log_loss_test)\n",
        "predicted_y=np.argmax(y_pred_test,axis=1)\n",
        "plot_confusion_matrix(y_test,predicted_y)"
      ]
    },
    {
      "cell_type": "code",
      "execution_count": 101,
      "metadata": {
        "id": "I14eR7ZnFSfd"
      },
      "outputs": [],
      "source": [
        "#Experiment Tracking with Hyper parameter Tuning of XGBoost\n",
        "\n",
        "from xgboost import XGBClassifier\n",
        "from sklearn.metrics import accuracy_score\n",
        "with mlflow.start_run():\n",
        "    mlflow.set_tag(\"dev\", \"Team15\")\n",
        "    mlflow.set_tag(\"algo\", \"xgboost_bert_ht\")\n",
        "    # log the data for each run using log_param, log_metric, log_model\n",
        "    mlflow.log_param(\"data-path\", \"train.csv\")\n",
        "    \n",
        "    xgboost_bert_ht = XGBClassifier()\n",
        "    xgboost_bert_ht.fit(X_train_bert,y_train)\n",
        "    y_pred_xgb_ht = xgboost_bert_ht.predict(X_test_bert)\n",
        "    accuracy_score(y_test,y_pred_xgb_ht)\n",
        "    mlflow.log_metric(\"accuracy\", acc)\n",
        "    mlflow.sklearn.log_model(clf, artifact_path=\"mlruns\")\n",
        "    mlflow.log_artifact(\"mlruns/model_bert.pkl\")\n"
      ]
    },
    {
      "attachments": {},
      "cell_type": "markdown",
      "metadata": {
        "id": "oQ3qy8wvBz51"
      },
      "source": [
        "# **Code for BoW approach**"
      ]
    },
    {
      "cell_type": "code",
      "execution_count": 102,
      "metadata": {
        "colab": {
          "base_uri": "https://localhost:8080/"
        },
        "id": "OEuZgYjZFSff",
        "outputId": "ff7f9cfe-fbf8-499b-bde8-ce09e7a740f7"
      },
      "outputs": [
        {
          "name": "stdout",
          "output_type": "stream",
          "text": [
            "Train log loss: 0.542\n",
            "Test log loss: 0.608\n"
          ]
        },
        {
          "data": {
            "image/png": "[encoded data removed]",
            "text/plain": [
              "<Figure size 2000x400 with 6 Axes>"
            ]
          },
          "metadata": {},
          "output_type": "display_data"
        }
      ],
      "source": [
        "from sklearn.feature_extraction.text import CountVectorizer\n",
        "from sklearn.model_selection import train_test_split\n",
        "from sklearn.metrics import log_loss\n",
        "import numpy as np\n",
        "\n",
        "# Merge texts\n",
        "questions = list(ques_df_bow['Clean_q1_lem']) + list(ques_df_bow['Clean_q2_lem'])\n",
        "\n",
        "# Create the CountVectorizer with a limited number of max_features\n",
        "cv = CountVectorizer(max_features=3000)\n",
        "\n",
        "# Process the data\n",
        "X = cv.fit_transform(questions).toarray()\n",
        "\n",
        "# Split into separate parts\n",
        "X1 = X[:len(ques_df_bow)]\n",
        "X2 = X[len(ques_df_bow):]\n",
        "\n",
        "# Train-test split\n",
        "X1_train, X1_test, X2_train, X2_test, y_train, y_test = train_test_split(X1, X2, final_df.iloc[:, 0].values, test_size=0.2, random_state=1)\n",
        "\n",
        "# Concatenate the features\n",
        "X_train = np.concatenate((X1_train, X2_train), axis=1)\n",
        "X_test = np.concatenate((X1_test, X2_test), axis=1)\n",
        "\n",
        "# Fit the classifier\n",
        "clf.fit(X_train, y_train)\n",
        "\n",
        "# Predict probabilities\n",
        "y_pred_train = clf.predict_proba(X_train)\n",
        "y_pred_test = clf.predict_proba(X_test)\n",
        "\n",
        "# Calculate log loss\n",
        "log_loss_train = log_loss(y_train, y_pred_train, eps=1e-15)\n",
        "log_loss_test = log_loss(y_test, y_pred_test, eps=1e-15)\n",
        "\n",
        "print('Train log loss:', log_loss_train.round(3))\n",
        "print('Test log loss:', log_loss_test.round(3))\n",
        "predicted_y=np.argmax(y_pred_test,axis=1)\n",
        "plot_confusion_matrix(y_test,predicted_y)\n"
      ]
    },
    {
      "attachments": {},
      "cell_type": "markdown",
      "metadata": {
        "id": "JDbPEdWJB_iR"
      },
      "source": [
        "# **Code for TF - IDF Approach**"
      ]
    },
    {
      "cell_type": "code",
      "execution_count": 103,
      "metadata": {
        "colab": {
          "base_uri": "https://localhost:8080/",
          "height": 374
        },
        "id": "JgWyeWnSFSfg",
        "outputId": "ac3638bf-4b57-4159-abb5-6ea7f5e63399"
      },
      "outputs": [
        {
          "name": "stdout",
          "output_type": "stream",
          "text": [
            "Train log loss: 0.372\n",
            "Test log loss: 0.471\n"
          ]
        },
        {
          "data": {
            "image/png": "[encoded data removed]",
            "text/plain": [
              "<Figure size 2000x400 with 6 Axes>"
            ]
          },
          "metadata": {},
          "output_type": "display_data"
        }
      ],
      "source": [
        "# TF_IDF\n",
        "\n",
        "questions = list(ques_df_tfidf['Clean_q1_lem']) + list(ques_df_tfidf['Clean_q2_lem'])\n",
        "\n",
        "q1_arr, q2_arr = np.vsplit(vectorizer.fit_transform(questions).toarray(),2)\n",
        "\n",
        "temp_df1_basic = pd.DataFrame(q1_arr, index= ques_df.index)\n",
        "temp_df2_basic = pd.DataFrame(q2_arr, index= ques_df.index)\n",
        "temp_df_basic = pd.concat([temp_df1_basic, temp_df2_basic], axis=1)\n",
        "final_df = pd.concat([final_df, temp_df], axis=1)\n",
        "\n",
        "\n",
        "from sklearn.model_selection import train_test_split\n",
        "X_train,X_test,y_train,y_test = train_test_split(final_df.iloc[:,1:].values,final_df.iloc[:,0].values,test_size=0.2,random_state=1)\n",
        "\n",
        "clf.fit(X_train,y_train)\n",
        "y_pred_test=clf.predict_proba(X_test)\n",
        "y_pred_train=clf.predict_proba(X_train)\n",
        "log_loss_train = log_loss(y_train, y_pred_train, eps=1e-15)\n",
        "log_loss_test=log_loss(y_test,y_pred_test,eps=1e-15)\n",
        "print('Train log loss:', log_loss_train.round(3))\n",
        "print('Test log loss:', log_loss_test.round(3))\n",
        "predicted_y=np.argmax(y_pred_test,axis=1)\n",
        "plot_confusion_matrix(y_test,predicted_y)"
      ]
    },
    {
      "attachments": {},
      "cell_type": "markdown",
      "metadata": {
        "id": "TGGbOwk9CmJT"
      },
      "source": [
        "# **Code for Word2Vector**"
      ]
    },
    {
      "cell_type": "code",
      "execution_count": 104,
      "metadata": {
        "colab": {
          "base_uri": "https://localhost:8080/",
          "height": 374
        },
        "id": "2Eh2wVubCf8H",
        "outputId": "ab9c881d-d330-40f1-ad4d-9dac5d7e1d61"
      },
      "outputs": [
        {
          "name": "stdout",
          "output_type": "stream",
          "text": [
            "Train log loss: 0.553\n",
            "Test log loss: 0.617\n"
          ]
        },
        {
          "data": {
            "image/png": "[encoded data removed]",
            "text/plain": [
              "<Figure size 2000x400 with 6 Axes>"
            ]
          },
          "metadata": {},
          "output_type": "display_data"
        }
      ],
      "source": [
        "import numpy as np\n",
        "\n",
        "questions = list(ques_df_w2v['Clean_q1_lem']) + list(ques_df_w2v['Clean_q2_lem'])\n",
        "isduplicate=list(final_df['is_duplicate'])+list(final_df['is_duplicate'])\n",
        "\n",
        "questions=pd.DataFrame(questions)\n",
        "isdup=pd.DataFrame(isduplicate)\n",
        "questions.columns=['questions']\n",
        "questions['questions'] = questions['questions'].apply(lambda sent : sent.split())\n",
        "model_w2v = Word2Vec(list(questions['questions']), vector_size=100, min_count=1)\n",
        "questions['doc_vector'] = questions.questions.apply(lambda x : document_vector(x, model_w2v.wv))\n",
        "X_train_w2v = list(questions['doc_vector'])\n",
        "questions.insert(1, \"is_duplicate\", isdup , True)\n",
        "\n",
        "X_train,X_test,y_train,y_test = train_test_split(questions['doc_vector'],isdup,test_size=0.2,random_state=1)\n",
        "X_train=pd.DataFrame(X_train)\n",
        "X_test=pd.DataFrame(X_test)\n",
        "\n",
        "X_train_w2v = list(X_train['doc_vector'])\n",
        "X_test_w2v = list(X_test['doc_vector'])\n",
        "\n",
        "clf.fit(np.asarray(X_train_w2v),y_train)\n",
        "\n",
        "y_pred_test=clf.predict_proba(X_test_w2v)\n",
        "y_pred_train=clf.predict_proba(X_train_w2v)\n",
        "log_loss_train = log_loss(y_train, y_pred_train, eps=1e-15)\n",
        "log_loss_test=log_loss(y_test,y_pred_test,eps=1e-15)\n",
        "print('Train log loss:', log_loss_train.round(3))\n",
        "print('Test log loss:', log_loss_test.round(3))\n",
        "predicted_y=np.argmax(y_pred_test,axis=1)\n",
        "plot_confusion_matrix(y_test,predicted_y)"
      ]
    },
    {
      "attachments": {},
      "cell_type": "markdown",
      "metadata": {
        "id": "ue-4Yz4JCv8y"
      },
      "source": [
        "# **Code for Glove**"
      ]
    },
    {
      "cell_type": "code",
      "execution_count": 105,
      "metadata": {
        "colab": {
          "base_uri": "https://localhost:8080/",
          "height": 466
        },
        "id": "FfQtmdSxCf4t",
        "outputId": "8411cf1a-251d-457a-a1fc-51674413f8ca"
      },
      "outputs": [
        {
          "name": "stdout",
          "output_type": "stream",
          "text": [
            "Train log loss: 0.487\n",
            "Test log loss: 0.544\n"
          ]
        },
        {
          "data": {
            "image/png": "[encoded data removed]",
            "text/plain": [
              "<Figure size 2000x400 with 6 Axes>"
            ]
          },
          "metadata": {},
          "output_type": "display_data"
        }
      ],
      "source": [
        "questions = list(ques_df_glove['Clean_q1_lem']) + list(ques_df_glove['Clean_q1_lem'])\n",
        "questions=pd.DataFrame(questions)\n",
        "questions.columns=['questions']\n",
        "questions['questions'] = questions['questions'].apply(lambda sent : sent.split())\n",
        "questions['doc_vector_pretrained_glove'] = questions.questions.apply(lambda x : document_vector(x, wv))\n",
        "questions['is_duplicate']=isdup\n",
        "\n",
        "\n",
        "from sklearn.model_selection import train_test_split\n",
        "X_train,X_test,y_train,y_test = train_test_split(questions['doc_vector_pretrained_glove'],isdup,test_size=0.2,random_state=1)\n",
        "X_train_glove=list(X_train)\n",
        "X_test_glove=list(X_test)\n",
        "\n",
        "\n",
        "clf.fit(np.asarray(X_train_glove),y_train)\n",
        "\n",
        "y_pred_test=clf.predict_proba(X_test_glove)\n",
        "y_pred_train=clf.predict_proba(X_train_glove)\n",
        "log_loss_train = log_loss(y_train, y_pred_train, eps=1e-15)\n",
        "log_loss_test=log_loss(y_test,y_pred_test,eps=1e-15)\n",
        "print('Train log loss:', log_loss_train.round(3))\n",
        "print('Test log loss:', log_loss_test.round(3))\n",
        "predicted_y=np.argmax(y_pred_test,axis=1)\n",
        "plot_confusion_matrix(y_test,predicted_y)"
      ]
    },
    {
      "attachments": {},
      "cell_type": "markdown",
      "metadata": {
        "id": "jDJCKXW7zL6b"
      },
      "source": [
        "# **Code for BERT**"
      ]
    },
    {
      "cell_type": "code",
      "execution_count": 106,
      "metadata": {
        "colab": {
          "base_uri": "https://localhost:8080/",
          "height": 374
        },
        "id": "n35MiPGTzHB6",
        "outputId": "129f639d-e74b-492a-f736-bd82525db6b3"
      },
      "outputs": [
        {
          "name": "stdout",
          "output_type": "stream",
          "text": [
            "Train log loss: 0.362\n",
            "Test log loss: 0.578\n"
          ]
        },
        {
          "data": {
            "image/png": "[encoded data removed]",
            "text/plain": [
              "<Figure size 2000x400 with 6 Axes>"
            ]
          },
          "metadata": {},
          "output_type": "display_data"
        }
      ],
      "source": [
        "model = SentenceTransformer('all-MiniLM-L6-v2')\n",
        "ques_df_bert = feature_df[['Clean_q1_lem','Clean_q2_lem']]\n",
        "ques_df_bert['is_duplicate']=final_df['is_duplicate']\n",
        "ques_df_bert['questions'] = (ques_df_bert['Clean_q1_lem']) + (ques_df_bert['Clean_q2_lem'])\n",
        "ques_df_bert=ques_df_bert.drop(columns=['Clean_q1_lem','Clean_q2_lem'])\n",
        "y = ques_df_bert['is_duplicate']\n",
        "X = ques_df_bert[['questions']]\n",
        "\n",
        "\n",
        "from sklearn.model_selection import train_test_split\n",
        "X_train,X_test,y_train,y_test = train_test_split(X,y,test_size=0.2,random_state=1)\n",
        "X_train['doc_vector'] = X_train.questions.apply(model.encode)\n",
        "X_train_bert = list(X_train.doc_vector)\n",
        "X_test['doc_vector'] = X_test.questions.apply(model.encode)\n",
        "X_test_bert = list(X_test.doc_vector)\n",
        "\n",
        "clf.fit(X_train_bert,y_train)\n",
        "y_pred_test=clf.predict_proba(X_test_bert)\n",
        "y_pred_train=clf.predict_proba(X_train_bert)\n",
        "log_loss_train = log_loss(y_train, y_pred_train, eps=1e-15)\n",
        "log_loss_test=log_loss(y_test,y_pred_test,eps=1e-15)\n",
        "print('Train log loss:', log_loss_train.round(3))\n",
        "print('Test log loss:', log_loss_test.round(3))\n",
        "predicted_y=np.argmax(y_pred_test,axis=1)\n",
        "plot_confusion_matrix(y_test,predicted_y)"
      ]
    },
    {
      "attachments": {},
      "cell_type": "markdown",
      "metadata": {
        "id": "dFkjmWxolV21"
      },
      "source": [
        "A Quora similarity check project typically involves developing a system that can determine the similarity between different questions or answers on the Quora platform. The goal is to provide users with relevant and related content based on their input or query.\n",
        "\n",
        "Here's a general outline of the steps involved in a Quora similarity check project:\n",
        "\n",
        "**Data Collection:** Gather a large dataset of questions and answers from Quora. This can be done using Quora's API or by scraping the website (if allowed and done ethically). The dataset should cover a wide range of topics to ensure diversity.\n",
        "\n",
        "**Data Preprocessing:** Clean and preprocess the collected data. This step involves removing noise, such as HTML tags, punctuation, and stopwords. You may also apply techniques like tokenization, stemming, or lemmatization to standardize the text.\n",
        "\n",
        "**Feature Extraction:** Convert the preprocessed text into a numerical representation called feature vectors ,that can be used for similarity comparison. Common approaches include word embeddings (e.g., Word2Vec, GloVe), sentence embeddings (e.g., Universal Sentence Encoder), or TF-IDF (Term Frequency-Inverse Document Frequency) vectors.\n",
        "\n",
        "**Similarity Calculation:** Use the feature vectors to compute the similarity between pairs of questions or answers. Various methods can be employed, such as cosine similarity, Jaccard similarity, or semantic similarity based on word embeddings.\n",
        "\n",
        "**Model Training:** If desired, you can train a machine learning model to predict similarity based on the extracted features. This step involves splitting the dataset into training and testing sets, selecting a suitable algorithm (e.g., SVM, Random Forest, or neural networks), and training the model on the training data.\n",
        "\n",
        "**Model Evaluation:** Split your dataset into training and testing sets. Use appropriate evaluation metrics like precision, recall, F1 score, or accuracy to assess the performance of your similarity model.\n",
        "\n",
        "**Fine-tuning and Optimization:** Experiment with different hyperparameters, model architectures, or additional techniques to improve the performance of your similarity model. This may involve techniques like hyperparameter tuning, data augmentation, or ensembling.\n",
        "\n",
        "**Deployment:** Once satisfied with the performance, deploy the similarity check system in a production environment. This may involve integrating it into the Quora platform or creating a standalone application or API that can be used to query the system for similar questions or answers.\n",
        "\n",
        "**Continuous Improvement:** Monitor the system's performance and gather user feedback to continually refine and improve the similarity check algorithm. Consider incorporating user interactions and feedback into the system to enhance its accuracy and relevance over time.\n"
      ]
    },
    {
      "attachments": {},
      "cell_type": "markdown",
      "metadata": {
        "id": "Oqktbp5tlbCi"
      },
      "source": [
        "# **Conclusions**"
      ]
    },
    {
      "attachments": {},
      "cell_type": "markdown",
      "metadata": {
        "id": "3gIl5Gnfku0t"
      },
      "source": [
        "When evaluating the similarity of Quora questions or answers, precision and recall are both important metrics, but they capture different aspects of performance.\n",
        "\n",
        "Precision measures the proportion of retrieved instances (in this case, similar questions or answers) that are actually relevant. It focuses on the correctness of the retrieved results. A higher precision indicates a lower rate of false positives, meaning that the retrieved similar questions or answers are more likely to be relevant and accurate.\n",
        "\n",
        "Recall, on the other hand, measures the proportion of relevant instances that were successfully retrieved. It focuses on the completeness of the retrieval process. A higher recall indicates a lower rate of false negatives, meaning that a larger proportion of relevant similar questions or answers are successfully retrieved.\n",
        "\n",
        "In the context of Quora similarity check, precision is particularly important because it ensures that the similar questions or answers suggested to users are relevant and useful. High precision helps to minimize irrelevant or unrelated suggestions, leading to a better user experience. Users are more likely to trust and engage with the system if the suggested content accurately matches their needs.\n",
        "\n",
        "However, recall is also valuable in this context because it ensures that a sufficient number of relevant similar questions or answers are retrieved. Higher recall helps to ensure that the system does not miss out on potentially relevant suggestions, providing users with a wider range of options to explore.\n",
        "\n",
        "In summary, both precision and recall are important metrics for evaluating the similarity check performance in Quora. While precision focuses on the correctness of retrieved results, recall emphasizes the completeness of the retrieval process. Striking a balance between these metrics is crucial to provide users with relevant and comprehensive suggestions."
      ]
    }
  ],
  "metadata": {
    "colab": {
      "provenance": []
    },
    "kernelspec": {
      "display_name": "envi",
      "language": "python",
      "name": "python3"
    },
    "language_info": {
      "codemirror_mode": {
        "name": "ipython",
        "version": 3
      },
      "file_extension": ".py",
      "mimetype": "text/x-python",
      "name": "python",
      "nbconvert_exporter": "python",
      "pygments_lexer": "ipython3",
      "version": "3.10.9"
    }
  },
  "nbformat": 4,
  "nbformat_minor": 0
}
